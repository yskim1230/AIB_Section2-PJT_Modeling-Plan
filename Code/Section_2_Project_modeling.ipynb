{
  "nbformat": 4,
  "nbformat_minor": 0,
  "metadata": {
    "colab": {
      "provenance": [],
      "authorship_tag": "ABX9TyMCTxEn2FVBCkSKZcyZqCVK",
      "include_colab_link": true
    },
    "kernelspec": {
      "name": "python3",
      "display_name": "Python 3"
    },
    "language_info": {
      "name": "python"
    }
  },
  "cells": [
    {
      "cell_type": "markdown",
      "metadata": {
        "id": "view-in-github",
        "colab_type": "text"
      },
      "source": [
        "<a href=\"https://colab.research.google.com/github/yskim1230/AIB_Section2-PJT_Modeling-Plan/blob/main/Section_2_Project_modeling.ipynb\" target=\"_parent\"><img src=\"https://colab.research.google.com/assets/colab-badge.svg\" alt=\"Open In Colab\"/></a>"
      ]
    },
    {
      "cell_type": "markdown",
      "source": [
        "# 필수 라이브러리 설치"
      ],
      "metadata": {
        "id": "Z0LbqBCdDdnB"
      }
    },
    {
      "cell_type": "code",
      "source": [
        "# 라이브러리 설치\n",
        "# 원핫인코딩을 위해 category_encoders 라이브러리를 설치해줍니다.\n",
        "!pip install category_encoders\n",
        "\n",
        "# for Ridge, Lasso normalize=True options\n",
        "# 해당 라이브러리 설치 후 런타임 다시 시작 -> 이후 셀 진행\n",
        "!pip install scikit-learn==1.1.3"
      ],
      "metadata": {
        "colab": {
          "base_uri": "https://localhost:8080/"
        },
        "id": "Vz73qcmGIOM8",
        "outputId": "ec46198c-ba82-482b-e370-eb2425c64907"
      },
      "execution_count": null,
      "outputs": [
        {
          "output_type": "stream",
          "name": "stdout",
          "text": [
            "Looking in indexes: https://pypi.org/simple, https://us-python.pkg.dev/colab-wheels/public/simple/\n",
            "Requirement already satisfied: category_encoders in /usr/local/lib/python3.9/dist-packages (2.6.0)\n",
            "Requirement already satisfied: numpy>=1.14.0 in /usr/local/lib/python3.9/dist-packages (from category_encoders) (1.22.4)\n",
            "Requirement already satisfied: pandas>=1.0.5 in /usr/local/lib/python3.9/dist-packages (from category_encoders) (1.4.4)\n",
            "Requirement already satisfied: statsmodels>=0.9.0 in /usr/local/lib/python3.9/dist-packages (from category_encoders) (0.13.5)\n",
            "Requirement already satisfied: scipy>=1.0.0 in /usr/local/lib/python3.9/dist-packages (from category_encoders) (1.10.1)\n",
            "Requirement already satisfied: patsy>=0.5.1 in /usr/local/lib/python3.9/dist-packages (from category_encoders) (0.5.3)\n",
            "Requirement already satisfied: scikit-learn>=0.20.0 in /usr/local/lib/python3.9/dist-packages (from category_encoders) (1.1.3)\n",
            "Requirement already satisfied: pytz>=2020.1 in /usr/local/lib/python3.9/dist-packages (from pandas>=1.0.5->category_encoders) (2022.7.1)\n",
            "Requirement already satisfied: python-dateutil>=2.8.1 in /usr/local/lib/python3.9/dist-packages (from pandas>=1.0.5->category_encoders) (2.8.2)\n",
            "Requirement already satisfied: six in /usr/local/lib/python3.9/dist-packages (from patsy>=0.5.1->category_encoders) (1.16.0)\n",
            "Requirement already satisfied: joblib>=1.0.0 in /usr/local/lib/python3.9/dist-packages (from scikit-learn>=0.20.0->category_encoders) (1.1.1)\n",
            "Requirement already satisfied: threadpoolctl>=2.0.0 in /usr/local/lib/python3.9/dist-packages (from scikit-learn>=0.20.0->category_encoders) (3.1.0)\n",
            "Requirement already satisfied: packaging>=21.3 in /usr/local/lib/python3.9/dist-packages (from statsmodels>=0.9.0->category_encoders) (23.0)\n",
            "Looking in indexes: https://pypi.org/simple, https://us-python.pkg.dev/colab-wheels/public/simple/\n",
            "Requirement already satisfied: scikit-learn==1.1.3 in /usr/local/lib/python3.9/dist-packages (1.1.3)\n",
            "Requirement already satisfied: joblib>=1.0.0 in /usr/local/lib/python3.9/dist-packages (from scikit-learn==1.1.3) (1.1.1)\n",
            "Requirement already satisfied: numpy>=1.17.3 in /usr/local/lib/python3.9/dist-packages (from scikit-learn==1.1.3) (1.22.4)\n",
            "Requirement already satisfied: threadpoolctl>=2.0.0 in /usr/local/lib/python3.9/dist-packages (from scikit-learn==1.1.3) (3.1.0)\n",
            "Requirement already satisfied: scipy>=1.3.2 in /usr/local/lib/python3.9/dist-packages (from scikit-learn==1.1.3) (1.10.1)\n"
          ]
        }
      ]
    },
    {
      "cell_type": "code",
      "execution_count": null,
      "metadata": {
        "id": "Ls2y_Eue-Mds"
      },
      "outputs": [],
      "source": [
        "import numpy as np\n",
        "import pandas as pd\n",
        "import matplotlib.pyplot as plt\n",
        "import seaborn as sns\n",
        "import warnings\n",
        "from sklearn.preprocessing import StandardScaler, PolynomialFeatures\n",
        "from sklearn.linear_model import LinearRegression, Ridge, Lasso\n",
        "from sklearn.preprocessing import LabelEncoder\n",
        "from sklearn.model_selection import train_test_split\n",
        "from sklearn.preprocessing import StandardScaler\n",
        "from sklearn.metrics import r2_score, mean_absolute_error\n",
        "from sklearn.model_selection import cross_val_score\n",
        "from sklearn.linear_model import Ridge\n",
        "from sklearn.linear_model import Lasso\n",
        "from sklearn.feature_selection import f_regression, SelectKBest\n",
        "\n",
        "warnings.filterwarnings(action='ignore')\n",
        "\n"
      ]
    },
    {
      "cell_type": "markdown",
      "source": [
        "데이터셋 가져오기"
      ],
      "metadata": {
        "id": "UfjyxKr9Dl5v"
      }
    },
    {
      "cell_type": "code",
      "source": [
        "naver_shop = pd.read_csv('https://raw.githubusercontent.com/yskim1230/AIB_Section2-PJT_Modeling-Plan/main/naver_shop_FE_comp.csv')\n"
      ],
      "metadata": {
        "id": "AUxgJEL1Dljc"
      },
      "execution_count": null,
      "outputs": []
    },
    {
      "cell_type": "code",
      "source": [
        "naver_shop.info()"
      ],
      "metadata": {
        "colab": {
          "base_uri": "https://localhost:8080/"
        },
        "id": "oCmd0_G7Fp60",
        "outputId": "7220561c-4550-40f4-ecae-8a7435f327fa"
      },
      "execution_count": null,
      "outputs": [
        {
          "output_type": "stream",
          "name": "stdout",
          "text": [
            "<class 'pandas.core.frame.DataFrame'>\n",
            "RangeIndex: 16426 entries, 0 to 16425\n",
            "Data columns (total 10 columns):\n",
            " #   Column        Non-Null Count  Dtype \n",
            "---  ------        --------------  ----- \n",
            " 0   Title         16426 non-null  object\n",
            " 1   Low price     16426 non-null  int64 \n",
            " 2   Mall Name     16426 non-null  object\n",
            " 3   Product Type  16426 non-null  int64 \n",
            " 4   Maker         16426 non-null  object\n",
            " 5   Brand         16426 non-null  object\n",
            " 6   category1     16426 non-null  object\n",
            " 7   category2     16426 non-null  object\n",
            " 8   category3     16426 non-null  object\n",
            " 9   Price_range   16425 non-null  object\n",
            "dtypes: int64(2), object(8)\n",
            "memory usage: 1.3+ MB\n"
          ]
        }
      ]
    },
    {
      "cell_type": "code",
      "source": [
        "# 'maker' 컬럼의 카디널리티 확인\n",
        "maker_cardinality = len(naver_shop['Maker'].unique())\n",
        "print('maker 카디널리티:', maker_cardinality)\n",
        "\n",
        "# 'brand' 컬럼의 카디널리티 확인\n",
        "brand_cardinality = len(naver_shop['Brand'].unique())\n",
        "print('brand 카디널리티:', brand_cardinality)\n",
        "\n",
        "# 'category1' 컬럼의 카디널리티 확인\n",
        "category1_cardinality = len(naver_shop['category1'].unique())\n",
        "print('category1 카디널리티:', category1_cardinality)\n",
        "\n",
        "# 'category2' 컬럼의 카디널리티 확인\n",
        "category2_cardinality = len(naver_shop['category2'].unique())\n",
        "print('category2 카디널리티:', category2_cardinality)\n",
        "\n",
        "# 'category3' 컬럼의 카디널리티 확인\n",
        "category3_cardinality = len(naver_shop['category3'].unique())\n",
        "print('category3 카디널리티:', category3_cardinality)\n",
        "\n",
        "\n",
        "# 'Price_range' 컬럼의 카디널리티 확인\n",
        "Price_range_cardinality = len(naver_shop['Price_range'].unique())\n",
        "print('Price_range 카디널리티:', Price_range_cardinality)\n",
        "\n"
      ],
      "metadata": {
        "colab": {
          "base_uri": "https://localhost:8080/"
        },
        "id": "f2y0l4unK-xO",
        "outputId": "c6150dc1-692f-478b-fd30-11ac6760985a"
      },
      "execution_count": null,
      "outputs": [
        {
          "output_type": "stream",
          "name": "stdout",
          "text": [
            "maker 카디널리티: 427\n",
            "brand 카디널리티: 891\n",
            "category1 카디널리티: 2\n",
            "category2 카디널리티: 5\n",
            "category3 카디널리티: 18\n",
            "Price_range 카디널리티: 5\n"
          ]
        }
      ]
    },
    {
      "cell_type": "code",
      "source": [
        "# 타겟 분포 확인\n",
        "sns.histplot(naver_shop['Low price'], bins=50);"
      ],
      "metadata": {
        "colab": {
          "base_uri": "https://localhost:8080/",
          "height": 449
        },
        "id": "yXj_ryxkMyxi",
        "outputId": "71592df5-0082-41a0-c803-248fdf36746e"
      },
      "execution_count": null,
      "outputs": [
        {
          "output_type": "display_data",
          "data": {
            "text/plain": [
              "<Figure size 640x480 with 1 Axes>"
            ],
            "image/png": "[encoded data removed]"
          },
          "metadata": {}
        }
      ]
    },
    {
      "cell_type": "code",
      "source": [
        "# 'Low price' 값이 100,000보다 작은 데이터만 추출하여 'naver_shop_cl' 데이터프레임 생성\n",
        "naver_shop_cl = naver_shop[naver_shop['Low price'] < 80000]\n",
        "\n",
        "# 'Low price' 컬럼의 히스토그램 그리기\n",
        "sns.histplot(naver_shop_cl['Low price'], bins=50);"
      ],
      "metadata": {
        "colab": {
          "base_uri": "https://localhost:8080/",
          "height": 449
        },
        "id": "H5TTGSavNifi",
        "outputId": "1cb4a2d3-d687-4deb-8629-54ec57203761"
      },
      "execution_count": null,
      "outputs": [
        {
          "output_type": "display_data",
          "data": {
            "text/plain": [
              "<Figure size 640x480 with 1 Axes>"
            ],
            "image/png": "[encoded data removed]"
          },
          "metadata": {}
        }
      ]
    },
    {
      "cell_type": "code",
      "source": [
        "# 'Price_range' 컬럼을 라벨 인코딩하여 'Price_range_encoded' 변수에 저장\n",
        "encoder = LabelEncoder()\n",
        "encoder.fit(['Very Cheap', 'Cheap', 'Moderate', 'Expensive'])  # 순서 지정\n",
        "naver_shop = naver_shop.dropna(subset=['Price_range'])\n",
        "naver_shop['Price_range_encoded'] = encoder.transform(naver_shop['Price_range'])\n",
        "\n",
        "order = naver_shop['Price_range_encoded'].value_counts().index.tolist()\n",
        "sns.countplot(x='Price_range_encoded', data=naver_shop, order=order)\n"
      ],
      "metadata": {
        "colab": {
          "base_uri": "https://localhost:8080/",
          "height": 468
        },
        "id": "XYLDTnhxPks9",
        "outputId": "0bcfaf8c-4140-4070-8376-f7a23f2f314d"
      },
      "execution_count": null,
      "outputs": [
        {
          "output_type": "execute_result",
          "data": {
            "text/plain": [
              "<Axes: xlabel='Price_range_encoded', ylabel='count'>"
            ]
          },
          "metadata": {},
          "execution_count": 56
        },
        {
          "output_type": "display_data",
          "data": {
            "text/plain": [
              "<Figure size 640x480 with 1 Axes>"
            ],
            "image/png": "[encoded data removed]"
          },
          "metadata": {}
        }
      ]
    },
    {
      "cell_type": "code",
      "source": [
        "# 데이터 금액 구간을 나눠 4분류로 했을때\n",
        "# 'Price_range' 컬럼을 범주형 변수로 변환\n",
        "naver_shop['Price_range'] = pd.Categorical(naver_shop['Price_range'], categories=['Very Cheap', 'Cheap', 'Moderate', 'Expensive'], ordered=True)\n",
        "\n",
        "# 'Price_range' 변수의 분포 확인\n",
        "sns.countplot(x='Price_range', data=naver_shop)"
      ],
      "metadata": {
        "colab": {
          "base_uri": "https://localhost:8080/",
          "height": 468
        },
        "id": "C-qWw_hLQxqY",
        "outputId": "68f1af5b-5f35-49d7-b295-f89d72b97e39"
      },
      "execution_count": null,
      "outputs": [
        {
          "output_type": "execute_result",
          "data": {
            "text/plain": [
              "<Axes: xlabel='Price_range', ylabel='count'>"
            ]
          },
          "metadata": {},
          "execution_count": 57
        },
        {
          "output_type": "display_data",
          "data": {
            "text/plain": [
              "<Figure size 640x480 with 1 Axes>"
            ],
            "image/png": "[encoded data removed]"
          },
          "metadata": {}
        }
      ]
    },
    {
      "cell_type": "code",
      "source": [
        "# 'Product Type'과 'Low price' 간의 상관계수 구하기\n",
        "corr = naver_shop[['Product Type', 'Low price']].corr()\n",
        "\n",
        "# 상관도 히트맵 그리기\n",
        "sns.heatmap(corr, annot=True, cmap='YlGnBu')"
      ],
      "metadata": {
        "colab": {
          "base_uri": "https://localhost:8080/",
          "height": 453
        },
        "id": "kxRmZgPlRZEt",
        "outputId": "938860bd-f752-4006-8da2-04b0002d4091"
      },
      "execution_count": null,
      "outputs": [
        {
          "output_type": "execute_result",
          "data": {
            "text/plain": [
              "<Axes: >"
            ]
          },
          "metadata": {},
          "execution_count": 58
        },
        {
          "output_type": "display_data",
          "data": {
            "text/plain": [
              "<Figure size 640x480 with 2 Axes>"
            ],
            "image/png": "[encoded data removed]"
          },
          "metadata": {}
        }
      ]
    },
    {
      "cell_type": "markdown",
      "source": [
        "# Modeling"
      ],
      "metadata": {
        "id": "8JW9cIBqXe70"
      }
    },
    {
      "cell_type": "code",
      "source": [
        "#수치형 변수에 대해서만 스케일링을 적용\n",
        "scaler = StandardScaler()\n",
        "naver_shop['Product Type_scaled'] = scaler.fit_transform(naver_shop[['Product Type']])"
      ],
      "metadata": {
        "id": "AQN77-MnY9j_"
      },
      "execution_count": null,
      "outputs": []
    },
    {
      "cell_type": "code",
      "source": [
        "# 'Maker', 'Brand', 'category1', 'category2', 'category3' 변수를 원-핫 인코딩하여 'naver_shop_encoded' 데이터프레임 생성\n",
        "naver_shop_encoded = pd.get_dummies(naver_shop[['category1', 'category2', 'category3']])\n",
        "\n",
        "# 인코딩 결과를 naver_shop 데이터프레임에 추가\n",
        "naver_shop = pd.concat([naver_shop, naver_shop_encoded], axis=1)\n"
      ],
      "metadata": {
        "id": "1v7_px-cXeaI"
      },
      "execution_count": null,
      "outputs": []
    },
    {
      "cell_type": "code",
      "source": [
        "# 독립 변수와 타겟 변수를 분리\n",
        "X = naver_shop.select_dtypes(include=['float', 'int','uint8'])\n",
        "y = naver_shop['Low price']\n",
        "\n",
        "# train 데이터와 test 데이터로 분할\n",
        "X_train, X_test, y_train, y_test = train_test_split(X, y, test_size=0.2, random_state=42)\n"
      ],
      "metadata": {
        "id": "ReaMSwG7f2MA"
      },
      "execution_count": null,
      "outputs": []
    },
    {
      "cell_type": "code",
      "source": [
        "# 기준모델 생성\n",
        "baseline = [y_train.mean()] * len(y_train)\n",
        "baseline_r2 = r2_score(y_train, baseline)\n",
        "baseline_mae = mean_absolute_error(y_train, baseline)\n",
        "print(f'기준모델의 r2_score: {baseline_r2}')\n",
        "print(f'기준모델의 mae : {baseline_mae}')"
      ],
      "metadata": {
        "colab": {
          "base_uri": "https://localhost:8080/"
        },
        "id": "ZRl6EggmaH66",
        "outputId": "9448a2d8-839d-488b-a562-3738e32c9108"
      },
      "execution_count": null,
      "outputs": [
        {
          "output_type": "stream",
          "name": "stdout",
          "text": [
            "기준모델의 r2_score: 0.0\n",
            "기준모델의 mae : 25255.417798685965\n"
          ]
        }
      ]
    },
    {
      "cell_type": "code",
      "source": [
        "def print_score(model, X_train, y_train, X_test, y_test) :\n",
        "\n",
        "    train_score = np.round(model.score(X_train, y_train) , 3)\n",
        "    val_score = np.round(np.mean(cross_val_score(model, X_train, y_train, scoring='r2', cv=3).round(3)),3)\n",
        "    test_score = np.round(model.score(X_test, y_test),3)\n",
        "    print(f'학습 세트 r2_score : {train_score}')\n",
        "    print(f'검증 세트 r2_score : {val_score}')\n",
        "    print(f'테스트 세트 r2_score : {test_score}')\n",
        "\n",
        "    return train_score, val_score, test_score"
      ],
      "metadata": {
        "id": "OTRVq2dMa-4V"
      },
      "execution_count": null,
      "outputs": []
    },
    {
      "cell_type": "code",
      "source": [
        "# 선형회귀를 ols라는 객체에 저장합니다. \n",
        "ols = LinearRegression()\n",
        "\n",
        "# 모델 학습\n",
        "ols.fit(X_train, y_train)\n",
        "\n",
        "# 성능 비교\n",
        "ols_train, ols_val, ols_test = print_score(ols,X_train, y_train, X_test, y_test)"
      ],
      "metadata": {
        "colab": {
          "base_uri": "https://localhost:8080/"
        },
        "id": "nxt9K8YBbQhs",
        "outputId": "b364ad0e-64b1-4145-e42d-60dec35d9b3f"
      },
      "execution_count": null,
      "outputs": [
        {
          "output_type": "stream",
          "name": "stdout",
          "text": [
            "학습 세트 r2_score : 1.0\n",
            "검증 세트 r2_score : 1.0\n",
            "테스트 세트 r2_score : 1.0\n"
          ]
        }
      ]
    },
    {
      "cell_type": "markdown",
      "source": [
        "과적합이 발생해버렸다."
      ],
      "metadata": {
        "id": "MLt8Tc_NdUzD"
      }
    },
    {
      "cell_type": "code",
      "source": [
        "selector = SelectKBest(score_func= f_regression, k='all')\n",
        "\n",
        "# 학습 데이터에 fit_transform\n",
        "X_train_selected = selector.fit_transform(X_train, y_train)\n",
        "\n",
        "# 테스트 데이터는 transform\n",
        "X_test_selected = selector.transform(X_test)\n",
        "\n",
        "# 어떤 특성이 선택되었는지 확인해봅시다.\n",
        "selector.get_feature_names_out()"
      ],
      "metadata": {
        "colab": {
          "base_uri": "https://localhost:8080/"
        },
        "id": "PxtnTShwekXG",
        "outputId": "444fc275-fa29-493c-ae67-89abda071760"
      },
      "execution_count": null,
      "outputs": [
        {
          "output_type": "execute_result",
          "data": {
            "text/plain": [
              "array(['Low price', 'Product Type', 'Price_range_encoded', ...,\n",
              "       'category3_트레이닝복', 'category3_티셔츠', 'category3_팬티'], dtype=object)"
            ]
          },
          "metadata": {},
          "execution_count": 77
        }
      ]
    }
  ]
}
