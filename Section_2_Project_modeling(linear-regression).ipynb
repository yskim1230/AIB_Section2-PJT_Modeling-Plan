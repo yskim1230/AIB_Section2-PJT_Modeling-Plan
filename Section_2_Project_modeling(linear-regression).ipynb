{
  "nbformat": 4,
  "nbformat_minor": 0,
  "metadata": {
    "colab": {
      "provenance": [],
      "authorship_tag": "ABX9TyMBy4xM3B2NqiBh7v99twSW",
      "include_colab_link": true
    },
    "kernelspec": {
      "name": "python3",
      "display_name": "Python 3"
    },
    "language_info": {
      "name": "python"
    }
  },
  "cells": [
    {
      "cell_type": "markdown",
      "metadata": {
        "id": "view-in-github",
        "colab_type": "text"
      },
      "source": [
        "<a href=\"https://colab.research.google.com/github/yskim1230/AIB_Section2-PJT_Modeling-Plan/blob/main/Section_2_Project_modeling(linear-regression).ipynb\" target=\"_parent\"><img src=\"https://colab.research.google.com/assets/colab-badge.svg\" alt=\"Open In Colab\"/></a>"
      ]
    },
    {
      "cell_type": "markdown",
      "source": [
        "# 선형회귀 분석"
      ],
      "metadata": {
        "id": "R07uTH61hIn6"
      }
    },
    {
      "cell_type": "markdown",
      "source": [
        "# 필수 라이브러리 설치"
      ],
      "metadata": {
        "id": "Z0LbqBCdDdnB"
      }
    },
    {
      "cell_type": "code",
      "source": [
        "# 라이브러리 설치\n",
        "# 원핫인코딩을 위해 category_encoders 라이브러리를 설치해줍니다.\n",
        "!pip install category_encoders\n",
        "\n",
        "# for Ridge, Lasso normalize=True options\n",
        "# 해당 라이브러리 설치 후 런타임 다시 시작 -> 이후 셀 진행\n",
        "!pip install scikit-learn==1.1.3"
      ],
      "metadata": {
        "colab": {
          "base_uri": "https://localhost:8080/"
        },
        "id": "Vz73qcmGIOM8",
        "outputId": "0e4b63cf-681c-4d67-fb51-3aa25fab894c"
      },
      "execution_count": 1,
      "outputs": [
        {
          "output_type": "stream",
          "name": "stdout",
          "text": [
            "Looking in indexes: https://pypi.org/simple, https://us-python.pkg.dev/colab-wheels/public/simple/\n",
            "Collecting category_encoders\n",
            "  Downloading category_encoders-2.6.0-py2.py3-none-any.whl (81 kB)\n",
            "\u001b[2K     \u001b[90m━━━━━━━━━━━━━━━━━━━━━━━━━━━━━━━━━━━━━━━━\u001b[0m \u001b[32m81.2/81.2 kB\u001b[0m \u001b[31m2.6 MB/s\u001b[0m eta \u001b[36m0:00:00\u001b[0m\n",
            "\u001b[?25hRequirement already satisfied: statsmodels>=0.9.0 in /usr/local/lib/python3.9/dist-packages (from category_encoders) (0.13.5)\n",
            "Requirement already satisfied: numpy>=1.14.0 in /usr/local/lib/python3.9/dist-packages (from category_encoders) (1.22.4)\n",
            "Requirement already satisfied: scipy>=1.0.0 in /usr/local/lib/python3.9/dist-packages (from category_encoders) (1.10.1)\n",
            "Requirement already satisfied: patsy>=0.5.1 in /usr/local/lib/python3.9/dist-packages (from category_encoders) (0.5.3)\n",
            "Requirement already satisfied: scikit-learn>=0.20.0 in /usr/local/lib/python3.9/dist-packages (from category_encoders) (1.2.2)\n",
            "Requirement already satisfied: pandas>=1.0.5 in /usr/local/lib/python3.9/dist-packages (from category_encoders) (1.4.4)\n",
            "Requirement already satisfied: python-dateutil>=2.8.1 in /usr/local/lib/python3.9/dist-packages (from pandas>=1.0.5->category_encoders) (2.8.2)\n",
            "Requirement already satisfied: pytz>=2020.1 in /usr/local/lib/python3.9/dist-packages (from pandas>=1.0.5->category_encoders) (2022.7.1)\n",
            "Requirement already satisfied: six in /usr/local/lib/python3.9/dist-packages (from patsy>=0.5.1->category_encoders) (1.16.0)\n",
            "Requirement already satisfied: joblib>=1.1.1 in /usr/local/lib/python3.9/dist-packages (from scikit-learn>=0.20.0->category_encoders) (1.1.1)\n",
            "Requirement already satisfied: threadpoolctl>=2.0.0 in /usr/local/lib/python3.9/dist-packages (from scikit-learn>=0.20.0->category_encoders) (3.1.0)\n",
            "Requirement already satisfied: packaging>=21.3 in /usr/local/lib/python3.9/dist-packages (from statsmodels>=0.9.0->category_encoders) (23.0)\n",
            "Installing collected packages: category_encoders\n",
            "Successfully installed category_encoders-2.6.0\n",
            "Looking in indexes: https://pypi.org/simple, https://us-python.pkg.dev/colab-wheels/public/simple/\n",
            "Collecting scikit-learn==1.1.3\n",
            "  Downloading scikit_learn-1.1.3-cp39-cp39-manylinux_2_17_x86_64.manylinux2014_x86_64.whl (30.8 MB)\n",
            "\u001b[2K     \u001b[90m━━━━━━━━━━━━━━━━━━━━━━━━━━━━━━━━━━━━━━━━\u001b[0m \u001b[32m30.8/30.8 MB\u001b[0m \u001b[31m9.2 MB/s\u001b[0m eta \u001b[36m0:00:00\u001b[0m\n",
            "\u001b[?25hRequirement already satisfied: threadpoolctl>=2.0.0 in /usr/local/lib/python3.9/dist-packages (from scikit-learn==1.1.3) (3.1.0)\n",
            "Requirement already satisfied: scipy>=1.3.2 in /usr/local/lib/python3.9/dist-packages (from scikit-learn==1.1.3) (1.10.1)\n",
            "Requirement already satisfied: numpy>=1.17.3 in /usr/local/lib/python3.9/dist-packages (from scikit-learn==1.1.3) (1.22.4)\n",
            "Requirement already satisfied: joblib>=1.0.0 in /usr/local/lib/python3.9/dist-packages (from scikit-learn==1.1.3) (1.1.1)\n",
            "Installing collected packages: scikit-learn\n",
            "  Attempting uninstall: scikit-learn\n",
            "    Found existing installation: scikit-learn 1.2.2\n",
            "    Uninstalling scikit-learn-1.2.2:\n",
            "      Successfully uninstalled scikit-learn-1.2.2\n",
            "Successfully installed scikit-learn-1.1.3\n"
          ]
        }
      ]
    },
    {
      "cell_type": "code",
      "execution_count": 28,
      "metadata": {
        "id": "Ls2y_Eue-Mds"
      },
      "outputs": [],
      "source": [
        "import numpy as np\n",
        "import pandas as pd\n",
        "import matplotlib.pyplot as plt\n",
        "import seaborn as sns\n",
        "import warnings\n",
        "from sklearn.preprocessing import StandardScaler, PolynomialFeatures\n",
        "from sklearn.linear_model import LinearRegression, Ridge, Lasso\n",
        "from sklearn.preprocessing import LabelEncoder\n",
        "from sklearn.model_selection import train_test_split\n",
        "from sklearn.preprocessing import StandardScaler\n",
        "from sklearn.metrics import r2_score, mean_absolute_error\n",
        "from sklearn.model_selection import cross_val_score\n",
        "from sklearn.linear_model import Ridge\n",
        "from sklearn.linear_model import Lasso\n",
        "from sklearn.feature_selection import f_regression, SelectKBest\n",
        "from sklearn.metrics import mean_absolute_error, mean_squared_error\n",
        "\n",
        "warnings.filterwarnings(action='ignore')\n",
        "\n"
      ]
    },
    {
      "cell_type": "markdown",
      "source": [
        "데이터셋 가져오기"
      ],
      "metadata": {
        "id": "UfjyxKr9Dl5v"
      }
    },
    {
      "cell_type": "code",
      "source": [
        "naver_shop = pd.read_csv('https://raw.githubusercontent.com/yskim1230/AIB_Section2-PJT_Modeling-Plan/main/naver_shop_FE_comp.csv')"
      ],
      "metadata": {
        "id": "AUxgJEL1Dljc"
      },
      "execution_count": 3,
      "outputs": []
    },
    {
      "cell_type": "code",
      "source": [
        "naver_shop.info()"
      ],
      "metadata": {
        "colab": {
          "base_uri": "https://localhost:8080/"
        },
        "id": "oCmd0_G7Fp60",
        "outputId": "b81b6fa8-ed02-40c0-b459-2a71c96dcfe3"
      },
      "execution_count": 4,
      "outputs": [
        {
          "output_type": "stream",
          "name": "stdout",
          "text": [
            "<class 'pandas.core.frame.DataFrame'>\n",
            "RangeIndex: 16426 entries, 0 to 16425\n",
            "Data columns (total 14 columns):\n",
            " #   Column             Non-Null Count  Dtype \n",
            "---  ------             --------------  ----- \n",
            " 0   Title              16426 non-null  object\n",
            " 1   Low price          16426 non-null  int64 \n",
            " 2   Mall Name          16426 non-null  object\n",
            " 3   Product Type       16426 non-null  int64 \n",
            " 4   Maker              16426 non-null  object\n",
            " 5   Brand              16426 non-null  object\n",
            " 6   category1          16426 non-null  object\n",
            " 7   category2          16426 non-null  object\n",
            " 8   category3          16426 non-null  object\n",
            " 9   Price_range        16426 non-null  object\n",
            " 10  Maker Point        16426 non-null  int64 \n",
            " 11  Brand Point        16426 non-null  int64 \n",
            " 12  Price_range_score  16426 non-null  int64 \n",
            " 13  Total Point        16426 non-null  int64 \n",
            "dtypes: int64(6), object(8)\n",
            "memory usage: 1.8+ MB\n"
          ]
        }
      ]
    },
    {
      "cell_type": "code",
      "source": [
        "naver_shop"
      ],
      "metadata": {
        "id": "5Oo-Fj4OWYgy",
        "outputId": "b6c55ff8-1f9f-4381-b370-d93cacce4dba",
        "colab": {
          "base_uri": "https://localhost:8080/",
          "height": 624
        }
      },
      "execution_count": 5,
      "outputs": [
        {
          "output_type": "execute_result",
          "data": {
            "text/plain": [
              "                                             Title  Low price Mall Name  \\\n",
              "0                                     지오다노  372513      21930       네이버   \n",
              "1                          모이몰른  아동 장화 아기옷 어린이집등원룩      35000    모이몰른에덴   \n",
              "2                                             EVA       10900      SABU   \n",
              "3                               날씨요정 아기공룡 유아  장화세트      23800      날씨요정   \n",
              "4                          유가모아 어린이 판초 키즈 아동 여아 남아      15900      유가모아   \n",
              "...                                            ...        ...       ...   \n",
              "16421                              아디다스 여성 기능성 반팔       16400    스포츠전문몰   \n",
              "16422           JORDAN 조던 주니어 보이 짐23 반팔 N232TS392P      35000       네이버   \n",
              "16423  타미힐피거 여성 라운드넥 5버튼 스몰 플래그 골지 긴팔  2컬러 76J3182      29400       네이버   \n",
              "16424                         온앤온 브이넥 반팔  JW2ME507      14700       네이버   \n",
              "16425                플라스틱아일랜드 꽃조직 레터링 배색  PP1CL263      46160       네이버   \n",
              "\n",
              "       Product Type     Maker     Brand category1 category2 category3  \\\n",
              "0                 1      지오다노      지오다노      패션의류      여성의류      레인코트   \n",
              "1                 2      한세드림      모이몰른     출산/육아     유아동의류      레인코트   \n",
              "2                 2  No-Maker  NO-Brand      패션의류      남성의류      레인코트   \n",
              "3                 2  No-Maker      날씨요정     출산/육아     유아동의류      레인코트   \n",
              "4                 2  No-Maker  NO-Brand     출산/육아     유아동의류      레인코트   \n",
              "...             ...       ...       ...       ...       ...       ...   \n",
              "16421             2      아디다스      아디다스      패션의류      여성의류       티셔츠   \n",
              "16422             1       나이키    JORDAN     출산/육아     유아동의류       티셔츠   \n",
              "16423             1     타미힐피거     타미힐피거      패션의류      여성의류       티셔츠   \n",
              "16424             1  No-Maker       온앤온      패션의류      여성의류       티셔츠   \n",
              "16425             1  No-Maker  플라스틱아일랜드      패션의류      여성의류       티셔츠   \n",
              "\n",
              "      Price_range  Maker Point  Brand Point  Price_range_score  Total Point  \n",
              "0      Very Cheap            1            3                  2            7  \n",
              "1      Very Cheap            1            1                  2            4  \n",
              "2      Very Cheap            0            0                  2            2  \n",
              "3      Very Cheap            0            1                  2            3  \n",
              "4      Very Cheap            0            0                  2            2  \n",
              "...           ...          ...          ...                ...          ...  \n",
              "16421  Very Cheap            1            3                  2            7  \n",
              "16422  Very Cheap            1            3                  2            7  \n",
              "16423  Very Cheap            1            3                  2            7  \n",
              "16424  Very Cheap            0            3                  2            6  \n",
              "16425       Cheap            0            3                  2            6  \n",
              "\n",
              "[16426 rows x 14 columns]"
            ],
            "text/html": [
              "\n",
              "  <div id=\"df-fbd06a55-1214-4806-8752-060bcbe5f04e\">\n",
              "    <div class=\"colab-df-container\">\n",
              "      <div>\n",
              "<style scoped>\n",
              "    .dataframe tbody tr th:only-of-type {\n",
              "        vertical-align: middle;\n",
              "    }\n",
              "\n",
              "    .dataframe tbody tr th {\n",
              "        vertical-align: top;\n",
              "    }\n",
              "\n",
              "    .dataframe thead th {\n",
              "        text-align: right;\n",
              "    }\n",
              "</style>\n",
              "<table border=\"1\" class=\"dataframe\">\n",
              "  <thead>\n",
              "    <tr style=\"text-align: right;\">\n",
              "      <th></th>\n",
              "      <th>Title</th>\n",
              "      <th>Low price</th>\n",
              "      <th>Mall Name</th>\n",
              "      <th>Product Type</th>\n",
              "      <th>Maker</th>\n",
              "      <th>Brand</th>\n",
              "      <th>category1</th>\n",
              "      <th>category2</th>\n",
              "      <th>category3</th>\n",
              "      <th>Price_range</th>\n",
              "      <th>Maker Point</th>\n",
              "      <th>Brand Point</th>\n",
              "      <th>Price_range_score</th>\n",
              "      <th>Total Point</th>\n",
              "    </tr>\n",
              "  </thead>\n",
              "  <tbody>\n",
              "    <tr>\n",
              "      <th>0</th>\n",
              "      <td>지오다노  372513</td>\n",
              "      <td>21930</td>\n",
              "      <td>네이버</td>\n",
              "      <td>1</td>\n",
              "      <td>지오다노</td>\n",
              "      <td>지오다노</td>\n",
              "      <td>패션의류</td>\n",
              "      <td>여성의류</td>\n",
              "      <td>레인코트</td>\n",
              "      <td>Very Cheap</td>\n",
              "      <td>1</td>\n",
              "      <td>3</td>\n",
              "      <td>2</td>\n",
              "      <td>7</td>\n",
              "    </tr>\n",
              "    <tr>\n",
              "      <th>1</th>\n",
              "      <td>모이몰른  아동 장화 아기옷 어린이집등원룩</td>\n",
              "      <td>35000</td>\n",
              "      <td>모이몰른에덴</td>\n",
              "      <td>2</td>\n",
              "      <td>한세드림</td>\n",
              "      <td>모이몰른</td>\n",
              "      <td>출산/육아</td>\n",
              "      <td>유아동의류</td>\n",
              "      <td>레인코트</td>\n",
              "      <td>Very Cheap</td>\n",
              "      <td>1</td>\n",
              "      <td>1</td>\n",
              "      <td>2</td>\n",
              "      <td>4</td>\n",
              "    </tr>\n",
              "    <tr>\n",
              "      <th>2</th>\n",
              "      <td>EVA</td>\n",
              "      <td>10900</td>\n",
              "      <td>SABU</td>\n",
              "      <td>2</td>\n",
              "      <td>No-Maker</td>\n",
              "      <td>NO-Brand</td>\n",
              "      <td>패션의류</td>\n",
              "      <td>남성의류</td>\n",
              "      <td>레인코트</td>\n",
              "      <td>Very Cheap</td>\n",
              "      <td>0</td>\n",
              "      <td>0</td>\n",
              "      <td>2</td>\n",
              "      <td>2</td>\n",
              "    </tr>\n",
              "    <tr>\n",
              "      <th>3</th>\n",
              "      <td>날씨요정 아기공룡 유아  장화세트</td>\n",
              "      <td>23800</td>\n",
              "      <td>날씨요정</td>\n",
              "      <td>2</td>\n",
              "      <td>No-Maker</td>\n",
              "      <td>날씨요정</td>\n",
              "      <td>출산/육아</td>\n",
              "      <td>유아동의류</td>\n",
              "      <td>레인코트</td>\n",
              "      <td>Very Cheap</td>\n",
              "      <td>0</td>\n",
              "      <td>1</td>\n",
              "      <td>2</td>\n",
              "      <td>3</td>\n",
              "    </tr>\n",
              "    <tr>\n",
              "      <th>4</th>\n",
              "      <td>유가모아 어린이 판초 키즈 아동 여아 남아</td>\n",
              "      <td>15900</td>\n",
              "      <td>유가모아</td>\n",
              "      <td>2</td>\n",
              "      <td>No-Maker</td>\n",
              "      <td>NO-Brand</td>\n",
              "      <td>출산/육아</td>\n",
              "      <td>유아동의류</td>\n",
              "      <td>레인코트</td>\n",
              "      <td>Very Cheap</td>\n",
              "      <td>0</td>\n",
              "      <td>0</td>\n",
              "      <td>2</td>\n",
              "      <td>2</td>\n",
              "    </tr>\n",
              "    <tr>\n",
              "      <th>...</th>\n",
              "      <td>...</td>\n",
              "      <td>...</td>\n",
              "      <td>...</td>\n",
              "      <td>...</td>\n",
              "      <td>...</td>\n",
              "      <td>...</td>\n",
              "      <td>...</td>\n",
              "      <td>...</td>\n",
              "      <td>...</td>\n",
              "      <td>...</td>\n",
              "      <td>...</td>\n",
              "      <td>...</td>\n",
              "      <td>...</td>\n",
              "      <td>...</td>\n",
              "    </tr>\n",
              "    <tr>\n",
              "      <th>16421</th>\n",
              "      <td>아디다스 여성 기능성 반팔</td>\n",
              "      <td>16400</td>\n",
              "      <td>스포츠전문몰</td>\n",
              "      <td>2</td>\n",
              "      <td>아디다스</td>\n",
              "      <td>아디다스</td>\n",
              "      <td>패션의류</td>\n",
              "      <td>여성의류</td>\n",
              "      <td>티셔츠</td>\n",
              "      <td>Very Cheap</td>\n",
              "      <td>1</td>\n",
              "      <td>3</td>\n",
              "      <td>2</td>\n",
              "      <td>7</td>\n",
              "    </tr>\n",
              "    <tr>\n",
              "      <th>16422</th>\n",
              "      <td>JORDAN 조던 주니어 보이 짐23 반팔 N232TS392P</td>\n",
              "      <td>35000</td>\n",
              "      <td>네이버</td>\n",
              "      <td>1</td>\n",
              "      <td>나이키</td>\n",
              "      <td>JORDAN</td>\n",
              "      <td>출산/육아</td>\n",
              "      <td>유아동의류</td>\n",
              "      <td>티셔츠</td>\n",
              "      <td>Very Cheap</td>\n",
              "      <td>1</td>\n",
              "      <td>3</td>\n",
              "      <td>2</td>\n",
              "      <td>7</td>\n",
              "    </tr>\n",
              "    <tr>\n",
              "      <th>16423</th>\n",
              "      <td>타미힐피거 여성 라운드넥 5버튼 스몰 플래그 골지 긴팔  2컬러 76J3182</td>\n",
              "      <td>29400</td>\n",
              "      <td>네이버</td>\n",
              "      <td>1</td>\n",
              "      <td>타미힐피거</td>\n",
              "      <td>타미힐피거</td>\n",
              "      <td>패션의류</td>\n",
              "      <td>여성의류</td>\n",
              "      <td>티셔츠</td>\n",
              "      <td>Very Cheap</td>\n",
              "      <td>1</td>\n",
              "      <td>3</td>\n",
              "      <td>2</td>\n",
              "      <td>7</td>\n",
              "    </tr>\n",
              "    <tr>\n",
              "      <th>16424</th>\n",
              "      <td>온앤온 브이넥 반팔  JW2ME507</td>\n",
              "      <td>14700</td>\n",
              "      <td>네이버</td>\n",
              "      <td>1</td>\n",
              "      <td>No-Maker</td>\n",
              "      <td>온앤온</td>\n",
              "      <td>패션의류</td>\n",
              "      <td>여성의류</td>\n",
              "      <td>티셔츠</td>\n",
              "      <td>Very Cheap</td>\n",
              "      <td>0</td>\n",
              "      <td>3</td>\n",
              "      <td>2</td>\n",
              "      <td>6</td>\n",
              "    </tr>\n",
              "    <tr>\n",
              "      <th>16425</th>\n",
              "      <td>플라스틱아일랜드 꽃조직 레터링 배색  PP1CL263</td>\n",
              "      <td>46160</td>\n",
              "      <td>네이버</td>\n",
              "      <td>1</td>\n",
              "      <td>No-Maker</td>\n",
              "      <td>플라스틱아일랜드</td>\n",
              "      <td>패션의류</td>\n",
              "      <td>여성의류</td>\n",
              "      <td>티셔츠</td>\n",
              "      <td>Cheap</td>\n",
              "      <td>0</td>\n",
              "      <td>3</td>\n",
              "      <td>2</td>\n",
              "      <td>6</td>\n",
              "    </tr>\n",
              "  </tbody>\n",
              "</table>\n",
              "<p>16426 rows × 14 columns</p>\n",
              "</div>\n",
              "      <button class=\"colab-df-convert\" onclick=\"convertToInteractive('df-fbd06a55-1214-4806-8752-060bcbe5f04e')\"\n",
              "              title=\"Convert this dataframe to an interactive table.\"\n",
              "              style=\"display:none;\">\n",
              "        \n",
              "  <svg xmlns=\"http://www.w3.org/2000/svg\" height=\"24px\"viewBox=\"0 0 24 24\"\n",
              "       width=\"24px\">\n",
              "    <path d=\"M0 0h24v24H0V0z\" fill=\"none\"/>\n",
              "    <path d=\"M18.56 5.44l.94 2.06.94-2.06 2.06-.94-2.06-.94-.94-2.06-.94 2.06-2.06.94zm-11 1L8.5 8.5l.94-2.06 2.06-.94-2.06-.94L8.5 2.5l-.94 2.06-2.06.94zm10 10l.94 2.06.94-2.06 2.06-.94-2.06-.94-.94-2.06-.94 2.06-2.06.94z\"/><path d=\"M17.41 7.96l-1.37-1.37c-.4-.4-.92-.59-1.43-.59-.52 0-1.04.2-1.43.59L10.3 9.45l-7.72 7.72c-.78.78-.78 2.05 0 2.83L4 21.41c.39.39.9.59 1.41.59.51 0 1.02-.2 1.41-.59l7.78-7.78 2.81-2.81c.8-.78.8-2.07 0-2.86zM5.41 20L4 18.59l7.72-7.72 1.47 1.35L5.41 20z\"/>\n",
              "  </svg>\n",
              "      </button>\n",
              "      \n",
              "  <style>\n",
              "    .colab-df-container {\n",
              "      display:flex;\n",
              "      flex-wrap:wrap;\n",
              "      gap: 12px;\n",
              "    }\n",
              "\n",
              "    .colab-df-convert {\n",
              "      background-color: #E8F0FE;\n",
              "      border: none;\n",
              "      border-radius: 50%;\n",
              "      cursor: pointer;\n",
              "      display: none;\n",
              "      fill: #1967D2;\n",
              "      height: 32px;\n",
              "      padding: 0 0 0 0;\n",
              "      width: 32px;\n",
              "    }\n",
              "\n",
              "    .colab-df-convert:hover {\n",
              "      background-color: #E2EBFA;\n",
              "      box-shadow: 0px 1px 2px rgba(60, 64, 67, 0.3), 0px 1px 3px 1px rgba(60, 64, 67, 0.15);\n",
              "      fill: #174EA6;\n",
              "    }\n",
              "\n",
              "    [theme=dark] .colab-df-convert {\n",
              "      background-color: #3B4455;\n",
              "      fill: #D2E3FC;\n",
              "    }\n",
              "\n",
              "    [theme=dark] .colab-df-convert:hover {\n",
              "      background-color: #434B5C;\n",
              "      box-shadow: 0px 1px 3px 1px rgba(0, 0, 0, 0.15);\n",
              "      filter: drop-shadow(0px 1px 2px rgba(0, 0, 0, 0.3));\n",
              "      fill: #FFFFFF;\n",
              "    }\n",
              "  </style>\n",
              "\n",
              "      <script>\n",
              "        const buttonEl =\n",
              "          document.querySelector('#df-fbd06a55-1214-4806-8752-060bcbe5f04e button.colab-df-convert');\n",
              "        buttonEl.style.display =\n",
              "          google.colab.kernel.accessAllowed ? 'block' : 'none';\n",
              "\n",
              "        async function convertToInteractive(key) {\n",
              "          const element = document.querySelector('#df-fbd06a55-1214-4806-8752-060bcbe5f04e');\n",
              "          const dataTable =\n",
              "            await google.colab.kernel.invokeFunction('convertToInteractive',\n",
              "                                                     [key], {});\n",
              "          if (!dataTable) return;\n",
              "\n",
              "          const docLinkHtml = 'Like what you see? Visit the ' +\n",
              "            '<a target=\"_blank\" href=https://colab.research.google.com/notebooks/data_table.ipynb>data table notebook</a>'\n",
              "            + ' to learn more about interactive tables.';\n",
              "          element.innerHTML = '';\n",
              "          dataTable['output_type'] = 'display_data';\n",
              "          await google.colab.output.renderOutput(dataTable, element);\n",
              "          const docLink = document.createElement('div');\n",
              "          docLink.innerHTML = docLinkHtml;\n",
              "          element.appendChild(docLink);\n",
              "        }\n",
              "      </script>\n",
              "    </div>\n",
              "  </div>\n",
              "  "
            ]
          },
          "metadata": {},
          "execution_count": 5
        }
      ]
    },
    {
      "cell_type": "code",
      "source": [
        "# 'maker' 컬럼의 카디널리티 확인\n",
        "maker_cardinality = len(naver_shop['Maker'].unique())\n",
        "print('maker 카디널리티:', maker_cardinality)\n",
        "\n",
        "# 'brand' 컬럼의 카디널리티 확인\n",
        "brand_cardinality = len(naver_shop['Brand'].unique())\n",
        "print('brand 카디널리티:', brand_cardinality)\n",
        "\n",
        "# 'category1' 컬럼의 카디널리티 확인\n",
        "category1_cardinality = len(naver_shop['category1'].unique())\n",
        "print('category1 카디널리티:', category1_cardinality)\n",
        "\n",
        "# 'category2' 컬럼의 카디널리티 확인\n",
        "category2_cardinality = len(naver_shop['category2'].unique())\n",
        "print('category2 카디널리티:', category2_cardinality)\n",
        "\n",
        "# 'category3' 컬럼의 카디널리티 확인\n",
        "category3_cardinality = len(naver_shop['category3'].unique())\n",
        "print('category3 카디널리티:', category3_cardinality)\n",
        "\n",
        "\n",
        "# 'Price_range' 컬럼의 카디널리티 확인\n",
        "Price_range_cardinality = len(naver_shop['Price_range'].unique())\n",
        "print('Price_range 카디널리티:', Price_range_cardinality)\n",
        "\n"
      ],
      "metadata": {
        "colab": {
          "base_uri": "https://localhost:8080/"
        },
        "id": "f2y0l4unK-xO",
        "outputId": "c6150dc1-692f-478b-fd30-11ac6760985a"
      },
      "execution_count": null,
      "outputs": [
        {
          "output_type": "stream",
          "name": "stdout",
          "text": [
            "maker 카디널리티: 427\n",
            "brand 카디널리티: 891\n",
            "category1 카디널리티: 2\n",
            "category2 카디널리티: 5\n",
            "category3 카디널리티: 18\n",
            "Price_range 카디널리티: 5\n"
          ]
        }
      ]
    },
    {
      "cell_type": "markdown",
      "source": [
        "키디널리티가 높은 컬럼은 Feature Engineering을 통해 수치화 작업완료"
      ],
      "metadata": {
        "id": "SbwqhOegWEPM"
      }
    },
    {
      "cell_type": "code",
      "source": [
        "# 타겟 분포 확인\n",
        "sns.histplot(naver_shop['Low price'], bins=50);"
      ],
      "metadata": {
        "colab": {
          "base_uri": "https://localhost:8080/",
          "height": 449
        },
        "id": "yXj_ryxkMyxi",
        "outputId": "e86e1c2c-389a-494a-de56-6e3c5f79d40f"
      },
      "execution_count": 6,
      "outputs": [
        {
          "output_type": "display_data",
          "data": {
            "text/plain": [
              "<Figure size 640x480 with 1 Axes>"
            ],
            "image/png": "[encoded data removed]"
          },
          "metadata": {}
        }
      ]
    },
    {
      "cell_type": "code",
      "source": [
        "# 'Low price' 값이 100,000보다 작은 데이터만 추출하여 'naver_shop_cl' 데이터프레임 생성\n",
        "naver_shop_cl = naver_shop[naver_shop['Low price'] < 80000]\n",
        "\n",
        "# 'Low price' 컬럼의 히스토그램 그리기\n",
        "sns.histplot(naver_shop_cl['Low price'], bins=50);"
      ],
      "metadata": {
        "colab": {
          "base_uri": "https://localhost:8080/",
          "height": 449
        },
        "id": "H5TTGSavNifi",
        "outputId": "124c906b-95b7-4a82-fb74-7771781c11e0"
      },
      "execution_count": 7,
      "outputs": [
        {
          "output_type": "display_data",
          "data": {
            "text/plain": [
              "<Figure size 640x480 with 1 Axes>"
            ],
            "image/png": "[encoded data removed]"
          },
          "metadata": {}
        }
      ]
    },
    {
      "cell_type": "code",
      "source": [
        "# 'Price_range' 컬럼을 라벨 인코딩하여 'Price_range_encoded' 변수에 저장\n",
        "encoder = LabelEncoder()\n",
        "encoder.fit(['Very Cheap', 'Cheap', 'Moderate', 'Expensive'])  # 순서 지정\n",
        "naver_shop = naver_shop.dropna(subset=['Price_range'])\n",
        "naver_shop['Price_range_encoded'] = encoder.transform(naver_shop['Price_range'])\n",
        "\n",
        "order = naver_shop['Price_range_encoded'].value_counts().index.tolist()\n",
        "sns.countplot(x='Price_range_encoded', data=naver_shop, order=order)\n"
      ],
      "metadata": {
        "colab": {
          "base_uri": "https://localhost:8080/",
          "height": 468
        },
        "id": "XYLDTnhxPks9",
        "outputId": "4f86bd83-744d-46a9-f03c-f5723491fef0"
      },
      "execution_count": 8,
      "outputs": [
        {
          "output_type": "execute_result",
          "data": {
            "text/plain": [
              "<Axes: xlabel='Price_range_encoded', ylabel='count'>"
            ]
          },
          "metadata": {},
          "execution_count": 8
        },
        {
          "output_type": "display_data",
          "data": {
            "text/plain": [
              "<Figure size 640x480 with 1 Axes>"
            ],
            "image/png": "[encoded data removed]"
          },
          "metadata": {}
        }
      ]
    },
    {
      "cell_type": "code",
      "source": [
        "# 데이터 금액 구간을 나눠 4분류로 했을때\n",
        "# 'Price_range' 컬럼을 범주형 변수로 변환\n",
        "naver_shop['Price_range'] = pd.Categorical(naver_shop['Price_range'], categories=['Very Cheap', 'Cheap', 'Moderate', 'Expensive'], ordered=True)\n",
        "\n",
        "# 'Price_range' 변수의 분포 확인\n",
        "sns.countplot(x='Price_range', data=naver_shop)"
      ],
      "metadata": {
        "colab": {
          "base_uri": "https://localhost:8080/",
          "height": 468
        },
        "id": "C-qWw_hLQxqY",
        "outputId": "81f2d3f0-76ec-4e19-c2a0-c76f95cfcceb"
      },
      "execution_count": 9,
      "outputs": [
        {
          "output_type": "execute_result",
          "data": {
            "text/plain": [
              "<Axes: xlabel='Price_range', ylabel='count'>"
            ]
          },
          "metadata": {},
          "execution_count": 9
        },
        {
          "output_type": "display_data",
          "data": {
            "text/plain": [
              "<Figure size 640x480 with 1 Axes>"
            ],
            "image/png": "[encoded data removed]"
          },
          "metadata": {}
        }
      ]
    },
    {
      "cell_type": "code",
      "source": [
        "# 'Product Type'과 'Low price' 간의 상관계수 구하기\n",
        "corr = naver_shop[['Product Type', 'Low price']].corr()\n",
        "\n",
        "# 상관도 히트맵 그리기\n",
        "sns.heatmap(corr, annot=True, cmap='YlGnBu')"
      ],
      "metadata": {
        "colab": {
          "base_uri": "https://localhost:8080/",
          "height": 453
        },
        "id": "kxRmZgPlRZEt",
        "outputId": "51400106-ce50-41bc-a079-74c58f7260ba"
      },
      "execution_count": 10,
      "outputs": [
        {
          "output_type": "execute_result",
          "data": {
            "text/plain": [
              "<Axes: >"
            ]
          },
          "metadata": {},
          "execution_count": 10
        },
        {
          "output_type": "display_data",
          "data": {
            "text/plain": [
              "<Figure size 640x480 with 2 Axes>"
            ],
            "image/png": "[encoded data removed]"
          },
          "metadata": {}
        }
      ]
    },
    {
      "cell_type": "markdown",
      "source": [
        "# Modeling"
      ],
      "metadata": {
        "id": "8JW9cIBqXe70"
      }
    },
    {
      "cell_type": "code",
      "source": [
        "# 기준모델 생성\n",
        "baseline = [y_train.mean()] * len(y_train)\n",
        "baseline_r2 = r2_score(y_train, baseline)\n",
        "baseline_mae = mean_absolute_error(y_train, baseline)\n",
        "baseline_mse = mean_squared_error(y_train, baseline)\n",
        "baseline_rmse = np.sqrt(baseline_mse)\n",
        "\n",
        "# 결과 출력\n",
        "print(f'기준모델의 r2_score: {baseline_r2}')\n",
        "print(f\"기준 모델의 MAE: {baseline_mae:.3f}\")\n",
        "print(f\"기준 모델의 MSE: {baseline_mse:.3f}\")\n",
        "print(f\"기준 모델의 RMSE: {baseline_rmse:.3f}\")"
      ],
      "metadata": {
        "colab": {
          "base_uri": "https://localhost:8080/"
        },
        "id": "ZRl6EggmaH66",
        "outputId": "15cbbcd3-1f59-4c72-83ce-3e282cc7b1d2"
      },
      "execution_count": 30,
      "outputs": [
        {
          "output_type": "stream",
          "name": "stdout",
          "text": [
            "기준모델의 r2_score: 0.0\n",
            "기준 모델의 MAE: 25276.555\n",
            "기준 모델의 MSE: 1038864107.634\n",
            "기준 모델의 RMSE: 32231.415\n"
          ]
        }
      ]
    },
    {
      "cell_type": "code",
      "source": [
        "# 독립 변수와 타겟 변수 선택\n",
        "X_cols = ['Maker Point', 'Brand Point', 'Price_range_score','Total Point']\n",
        "y_col = 'Low price'\n",
        "X = naver_shop[X_cols]\n",
        "y = naver_shop[y_col]\n",
        "\n",
        "# 데이터 정규화\n",
        "scaler = StandardScaler()\n",
        "X_scaled = scaler.fit_transform(X)\n",
        "\n",
        "# train 데이터와 test 데이터로 분할\n",
        "X_train, X_test, y_train, y_test = train_test_split(X_scaled, y, test_size=0.2, random_state=42)"
      ],
      "metadata": {
        "id": "OTRVq2dMa-4V"
      },
      "execution_count": 21,
      "outputs": []
    },
    {
      "cell_type": "code",
      "source": [
        "# train, test 데이터가 잘 나눠졌는지 확인.\n",
        "\n",
        "X_train.shape, X_test.shape, y_train.shape, y_test.shape"
      ],
      "metadata": {
        "id": "GEy731XeZLqZ",
        "outputId": "f7759257-e761-46c1-c7ae-90fce6e73769",
        "colab": {
          "base_uri": "https://localhost:8080/"
        }
      },
      "execution_count": 24,
      "outputs": [
        {
          "output_type": "execute_result",
          "data": {
            "text/plain": [
              "((13140, 4), (3286, 4), (13140,), (3286,))"
            ]
          },
          "metadata": {},
          "execution_count": 24
        }
      ]
    },
    {
      "cell_type": "code",
      "source": [
        "# 선형회귀 모델 만들기\n",
        "ols = LinearRegression()\n",
        "\n",
        "# 모델 학습\n",
        "ols.fit(X_train, y_train)\n",
        "\n",
        "# 성능 평가\n",
        "train_score = np.round(ols.score(X_train, y_train), 3)\n",
        "val_score = np.round(np.mean(cross_val_score(ols, X_train, y_train, scoring='r2', cv=3)), 3)\n",
        "test_score = np.round(ols.score(X_test, y_test), 3)\n",
        "\n",
        "# 모델 예측\n",
        "y_pred = ols.predict(X_test)\n",
        "\n",
        "# MAE, MSE, RMSE, R^2 계산\n",
        "mae = mean_absolute_error(y_test, y_pred)\n",
        "mse = mean_squared_error(y_test, y_pred)\n",
        "rmse = np.sqrt(mse)\n",
        "r2 = r2_score(y_test, y_pred)\n",
        "\n",
        "# 결과 출력\n",
        "print(f\"R^2: {r2:.3f}\")\n",
        "print(f\"MAE: {mae:.3f}\")\n",
        "print(f\"MSE: {mse:.3f}\")\n",
        "print(f\"RMSE: {rmse:.3f}\")\n"
      ],
      "metadata": {
        "colab": {
          "base_uri": "https://localhost:8080/"
        },
        "id": "nxt9K8YBbQhs",
        "outputId": "5ec1d226-5396-42aa-f3a1-2bab53222734"
      },
      "execution_count": 34,
      "outputs": [
        {
          "output_type": "stream",
          "name": "stdout",
          "text": [
            "R^2: 0.682\n",
            "MAE: 14944.828\n",
            "MSE: 327887645.633\n",
            "RMSE: 18107.668\n"
          ]
        }
      ]
    },
    {
      "cell_type": "markdown",
      "source": [
        "# one-hot-encoding(category3)\n"
      ],
      "metadata": {
        "id": "GqjEuzq_Z5vd"
      }
    },
    {
      "cell_type": "code",
      "source": [
        "# category3 변수에 대해 one-hot encoding을 수행\n",
        "category3_encoded = pd.get_dummies(naver_shop['category3'], prefix='category3')\n",
        "\n",
        "# 인코딩된 데이터를 원본 데이터에 병합\n",
        "naver_shop = pd.concat([naver_shop, category3_encoded], axis=1)\n",
        "\n",
        "# 독립 변수와 타겟 변수 선택\n",
        "X_cols_ohe = ['Maker Point', 'Brand Point', 'Price_range_score'] + list(category3_encoded.columns)\n",
        "y_col_ohe = 'Low price'\n",
        "X_ohe = naver_shop[X_cols_ohe]\n",
        "y_ohe = naver_shop[y_col_ohe]\n",
        "\n",
        "# 데이터 정규화\n",
        "scaler_ohe = StandardScaler()\n",
        "X_scaled_ohe = scaler.fit_transform(X)\n",
        "\n",
        "# train 데이터와 test 데이터로 분할\n",
        "X_train_ohe, X_test_ohe, y_train_ohe, y_test_ohe = train_test_split(X_scaled_ohe, y_ohe, test_size=0.2, random_state=42)\n",
        "\n",
        "# 선형회귀 모델 만들기\n",
        "ols = LinearRegression()\n",
        "\n",
        "# 모델 학습\n",
        "ols.fit(X_train_ohe, y_train_ohe)\n",
        "\n",
        "# 성능 평가\n",
        "train_score_ohe = np.round(ols.score(X_train_ohe, y_train_ohe), 3)\n",
        "val_score_ohe = np.round(np.mean(cross_val_score(ols, X_train_ohe, y_train_ohe, scoring='r2', cv=3)), 3)\n",
        "test_score_ohe = np.round(ols.score(X_test_ohe, y_test_ohe), 3)\n",
        "\n",
        "# 결과 출력\n",
        "print(f'학습 세트 r2_score : {train_score_ohe}')\n",
        "# 모델 예측\n",
        "y_pred = ols.predict(X_test_ohe)\n",
        "\n",
        "# MAE, MSE, RMSE 계산\n",
        "mae_ohe = mean_absolute_error(y_test_ohe, y_pred)\n",
        "mse_ohe = mean_squared_error(y_test_ohe, y_pred)\n",
        "rmse_ohe = np.sqrt(mse_ohe)\n",
        "\n",
        "# 결과 출력\n",
        "print(f\"MAE: {mae_ohe:.3f}\")\n",
        "print(f\"MSE: {mse_ohe:.3f}\")\n",
        "print(f\"RMSE: {rmse_ohe:.3f}\")"
      ],
      "metadata": {
        "id": "i1DEbmEkaUu6",
        "outputId": "55900335-bbdb-4c9b-afba-e9a1b0a47831",
        "colab": {
          "base_uri": "https://localhost:8080/"
        }
      },
      "execution_count": 35,
      "outputs": [
        {
          "output_type": "stream",
          "name": "stdout",
          "text": [
            "학습 세트 r2_score : 0.69\n",
            "MAE: 14944.828\n",
            "MSE: 327887645.633\n",
            "RMSE: 18107.668\n"
          ]
        }
      ]
    }
  ]
}