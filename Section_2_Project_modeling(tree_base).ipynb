{
  "nbformat": 4,
  "nbformat_minor": 0,
  "metadata": {
    "colab": {
      "provenance": [],
      "authorship_tag": "ABX9TyOTZKN1u5MNgyfRhCJuf6tm",
      "include_colab_link": true
    },
    "kernelspec": {
      "name": "python3",
      "display_name": "Python 3"
    },
    "language_info": {
      "name": "python"
    }
  },
  "cells": [
    {
      "cell_type": "markdown",
      "metadata": {
        "id": "view-in-github",
        "colab_type": "text"
      },
      "source": [
        "<a href=\"https://colab.research.google.com/github/yskim1230/AIB_Section2-PJT_Modeling-Plan/blob/main/Section_2_Project_modeling(tree_base).ipynb\" target=\"_parent\"><img src=\"https://colab.research.google.com/assets/colab-badge.svg\" alt=\"Open In Colab\"/></a>"
      ]
    },
    {
      "cell_type": "markdown",
      "source": [
        "# 트리모델"
      ],
      "metadata": {
        "id": "D7X09jayhagZ"
      }
    },
    {
      "cell_type": "code",
      "source": [
        "# 라이브러리 설치\n",
        "# 원핫인코딩을 위해 category_encoders 라이브러리를 설치해줍니다.\n",
        "!pip install category_encoders\n",
        "!pip install pandas-profiling==3.1.0\n",
        "# 해당 라이브러리 설치 후 런타임 다시 시작 -> 이후 셀 진행\n",
        "!pip install scikit-learn==1.1.3"
      ],
      "metadata": {
        "colab": {
          "base_uri": "https://localhost:8080/"
        },
        "id": "AMFu6cRuiARy",
        "outputId": "dbff6b26-82df-49c3-e716-cc12945e7ae4"
      },
      "execution_count": 1,
      "outputs": [
        {
          "output_type": "stream",
          "name": "stdout",
          "text": [
            "Looking in indexes: https://pypi.org/simple, https://us-python.pkg.dev/colab-wheels/public/simple/\n",
            "Collecting category_encoders\n",
            "  Downloading category_encoders-2.6.0-py2.py3-none-any.whl (81 kB)\n",
            "\u001b[2K     \u001b[90m━━━━━━━━━━━━━━━━━━━━━━━━━━━━━━━━━━━━━━━━\u001b[0m \u001b[32m81.2/81.2 kB\u001b[0m \u001b[31m2.3 MB/s\u001b[0m eta \u001b[36m0:00:00\u001b[0m\n",
            "\u001b[?25hRequirement already satisfied: pandas>=1.0.5 in /usr/local/lib/python3.9/dist-packages (from category_encoders) (1.5.3)\n",
            "Requirement already satisfied: numpy>=1.14.0 in /usr/local/lib/python3.9/dist-packages (from category_encoders) (1.22.4)\n",
            "Requirement already satisfied: scipy>=1.0.0 in /usr/local/lib/python3.9/dist-packages (from category_encoders) (1.10.1)\n",
            "Requirement already satisfied: patsy>=0.5.1 in /usr/local/lib/python3.9/dist-packages (from category_encoders) (0.5.3)\n",
            "Requirement already satisfied: scikit-learn>=0.20.0 in /usr/local/lib/python3.9/dist-packages (from category_encoders) (1.2.2)\n",
            "Requirement already satisfied: statsmodels>=0.9.0 in /usr/local/lib/python3.9/dist-packages (from category_encoders) (0.13.5)\n",
            "Requirement already satisfied: python-dateutil>=2.8.1 in /usr/local/lib/python3.9/dist-packages (from pandas>=1.0.5->category_encoders) (2.8.2)\n",
            "Requirement already satisfied: pytz>=2020.1 in /usr/local/lib/python3.9/dist-packages (from pandas>=1.0.5->category_encoders) (2022.7.1)\n",
            "Requirement already satisfied: six in /usr/local/lib/python3.9/dist-packages (from patsy>=0.5.1->category_encoders) (1.16.0)\n",
            "Requirement already satisfied: threadpoolctl>=2.0.0 in /usr/local/lib/python3.9/dist-packages (from scikit-learn>=0.20.0->category_encoders) (3.1.0)\n",
            "Requirement already satisfied: joblib>=1.1.1 in /usr/local/lib/python3.9/dist-packages (from scikit-learn>=0.20.0->category_encoders) (1.2.0)\n",
            "Requirement already satisfied: packaging>=21.3 in /usr/local/lib/python3.9/dist-packages (from statsmodels>=0.9.0->category_encoders) (23.0)\n",
            "Installing collected packages: category_encoders\n",
            "Successfully installed category_encoders-2.6.0\n",
            "Looking in indexes: https://pypi.org/simple, https://us-python.pkg.dev/colab-wheels/public/simple/\n",
            "Collecting pandas-profiling==3.1.0\n",
            "  Downloading pandas_profiling-3.1.0-py2.py3-none-any.whl (261 kB)\n",
            "\u001b[2K     \u001b[90m━━━━━━━━━━━━━━━━━━━━━━━━━━━━━━━━━━━━━━━\u001b[0m \u001b[32m261.2/261.2 kB\u001b[0m \u001b[31m3.6 MB/s\u001b[0m eta \u001b[36m0:00:00\u001b[0m\n",
            "\u001b[?25hRequirement already satisfied: scipy>=1.4.1 in /usr/local/lib/python3.9/dist-packages (from pandas-profiling==3.1.0) (1.10.1)\n",
            "Requirement already satisfied: requests>=2.24.0 in /usr/local/lib/python3.9/dist-packages (from pandas-profiling==3.1.0) (2.27.1)\n",
            "Requirement already satisfied: matplotlib>=3.2.0 in /usr/local/lib/python3.9/dist-packages (from pandas-profiling==3.1.0) (3.7.1)\n",
            "Requirement already satisfied: tqdm>=4.48.2 in /usr/local/lib/python3.9/dist-packages (from pandas-profiling==3.1.0) (4.65.0)\n",
            "Requirement already satisfied: seaborn>=0.10.1 in /usr/local/lib/python3.9/dist-packages (from pandas-profiling==3.1.0) (0.12.2)\n",
            "Requirement already satisfied: pandas!=1.0.0,!=1.0.1,!=1.0.2,!=1.1.0,>=0.25.3 in /usr/local/lib/python3.9/dist-packages (from pandas-profiling==3.1.0) (1.5.3)\n",
            "Requirement already satisfied: pydantic>=1.8.1 in /usr/local/lib/python3.9/dist-packages (from pandas-profiling==3.1.0) (1.10.7)\n",
            "Collecting multimethod>=1.4\n",
            "  Downloading multimethod-1.9.1-py3-none-any.whl (10 kB)\n",
            "Requirement already satisfied: numpy>=1.16.0 in /usr/local/lib/python3.9/dist-packages (from pandas-profiling==3.1.0) (1.22.4)\n",
            "Collecting htmlmin>=0.1.12\n",
            "  Downloading htmlmin-0.1.12.tar.gz (19 kB)\n",
            "  Preparing metadata (setup.py) ... \u001b[?25l\u001b[?25hdone\n",
            "Collecting markupsafe~=2.0.1\n",
            "  Downloading MarkupSafe-2.0.1-cp39-cp39-manylinux_2_5_x86_64.manylinux1_x86_64.manylinux_2_12_x86_64.manylinux2010_x86_64.whl (30 kB)\n",
            "Collecting tangled-up-in-unicode==0.1.0\n",
            "  Downloading tangled_up_in_unicode-0.1.0-py3-none-any.whl (3.1 MB)\n",
            "\u001b[2K     \u001b[90m━━━━━━━━━━━━━━━━━━━━━━━━━━━━━━━━━━━━━━━━\u001b[0m \u001b[32m3.1/3.1 MB\u001b[0m \u001b[31m13.9 MB/s\u001b[0m eta \u001b[36m0:00:00\u001b[0m\n",
            "\u001b[?25hCollecting visions[type_image_path]==0.7.4\n",
            "  Downloading visions-0.7.4-py3-none-any.whl (102 kB)\n",
            "\u001b[2K     \u001b[90m━━━━━━━━━━━━━━━━━━━━━━━━━━━━━━━━━━━━━━━\u001b[0m \u001b[32m102.4/102.4 kB\u001b[0m \u001b[31m5.7 MB/s\u001b[0m eta \u001b[36m0:00:00\u001b[0m\n",
            "\u001b[?25hRequirement already satisfied: jinja2>=2.11.1 in /usr/local/lib/python3.9/dist-packages (from pandas-profiling==3.1.0) (3.1.2)\n",
            "Requirement already satisfied: PyYAML>=5.0.0 in /usr/local/lib/python3.9/dist-packages (from pandas-profiling==3.1.0) (6.0)\n",
            "Collecting phik>=0.11.1\n",
            "  Downloading phik-0.12.3-cp39-cp39-manylinux_2_17_x86_64.manylinux2014_x86_64.whl (679 kB)\n",
            "\u001b[2K     \u001b[90m━━━━━━━━━━━━━━━━━━━━━━━━━━━━━━━━━━━━━━\u001b[0m \u001b[32m679.8/679.8 kB\u001b[0m \u001b[31m14.1 MB/s\u001b[0m eta \u001b[36m0:00:00\u001b[0m\n",
            "\u001b[?25hRequirement already satisfied: missingno>=0.4.2 in /usr/local/lib/python3.9/dist-packages (from pandas-profiling==3.1.0) (0.5.2)\n",
            "Collecting joblib~=1.0.1\n",
            "  Downloading joblib-1.0.1-py3-none-any.whl (303 kB)\n",
            "\u001b[2K     \u001b[90m━━━━━━━━━━━━━━━━━━━━━━━━━━━━━━━━━━━━━━\u001b[0m \u001b[32m303.1/303.1 kB\u001b[0m \u001b[31m10.6 MB/s\u001b[0m eta \u001b[36m0:00:00\u001b[0m\n",
            "\u001b[?25hRequirement already satisfied: networkx>=2.4 in /usr/local/lib/python3.9/dist-packages (from visions[type_image_path]==0.7.4->pandas-profiling==3.1.0) (3.1)\n",
            "Requirement already satisfied: attrs>=19.3.0 in /usr/local/lib/python3.9/dist-packages (from visions[type_image_path]==0.7.4->pandas-profiling==3.1.0) (22.2.0)\n",
            "Collecting imagehash\n",
            "  Downloading ImageHash-4.3.1-py2.py3-none-any.whl (296 kB)\n",
            "\u001b[2K     \u001b[90m━━━━━━━━━━━━━━━━━━━━━━━━━━━━━━━━━━━━━━━\u001b[0m \u001b[32m296.5/296.5 kB\u001b[0m \u001b[31m6.9 MB/s\u001b[0m eta \u001b[36m0:00:00\u001b[0m\n",
            "\u001b[?25hRequirement already satisfied: Pillow in /usr/local/lib/python3.9/dist-packages (from visions[type_image_path]==0.7.4->pandas-profiling==3.1.0) (8.4.0)\n",
            "Requirement already satisfied: contourpy>=1.0.1 in /usr/local/lib/python3.9/dist-packages (from matplotlib>=3.2.0->pandas-profiling==3.1.0) (1.0.7)\n",
            "Requirement already satisfied: cycler>=0.10 in /usr/local/lib/python3.9/dist-packages (from matplotlib>=3.2.0->pandas-profiling==3.1.0) (0.11.0)\n",
            "Requirement already satisfied: packaging>=20.0 in /usr/local/lib/python3.9/dist-packages (from matplotlib>=3.2.0->pandas-profiling==3.1.0) (23.0)\n",
            "Requirement already satisfied: fonttools>=4.22.0 in /usr/local/lib/python3.9/dist-packages (from matplotlib>=3.2.0->pandas-profiling==3.1.0) (4.39.3)\n",
            "Requirement already satisfied: kiwisolver>=1.0.1 in /usr/local/lib/python3.9/dist-packages (from matplotlib>=3.2.0->pandas-profiling==3.1.0) (1.4.4)\n",
            "Requirement already satisfied: python-dateutil>=2.7 in /usr/local/lib/python3.9/dist-packages (from matplotlib>=3.2.0->pandas-profiling==3.1.0) (2.8.2)\n",
            "Requirement already satisfied: pyparsing>=2.3.1 in /usr/local/lib/python3.9/dist-packages (from matplotlib>=3.2.0->pandas-profiling==3.1.0) (3.0.9)\n",
            "Requirement already satisfied: importlib-resources>=3.2.0 in /usr/local/lib/python3.9/dist-packages (from matplotlib>=3.2.0->pandas-profiling==3.1.0) (5.12.0)\n",
            "Requirement already satisfied: pytz>=2020.1 in /usr/local/lib/python3.9/dist-packages (from pandas!=1.0.0,!=1.0.1,!=1.0.2,!=1.1.0,>=0.25.3->pandas-profiling==3.1.0) (2022.7.1)\n",
            "Requirement already satisfied: typing-extensions>=4.2.0 in /usr/local/lib/python3.9/dist-packages (from pydantic>=1.8.1->pandas-profiling==3.1.0) (4.5.0)\n",
            "Requirement already satisfied: certifi>=2017.4.17 in /usr/local/lib/python3.9/dist-packages (from requests>=2.24.0->pandas-profiling==3.1.0) (2022.12.7)\n",
            "Requirement already satisfied: charset-normalizer~=2.0.0 in /usr/local/lib/python3.9/dist-packages (from requests>=2.24.0->pandas-profiling==3.1.0) (2.0.12)\n",
            "Requirement already satisfied: idna<4,>=2.5 in /usr/local/lib/python3.9/dist-packages (from requests>=2.24.0->pandas-profiling==3.1.0) (3.4)\n",
            "Requirement already satisfied: urllib3<1.27,>=1.21.1 in /usr/local/lib/python3.9/dist-packages (from requests>=2.24.0->pandas-profiling==3.1.0) (1.26.15)\n",
            "Requirement already satisfied: zipp>=3.1.0 in /usr/local/lib/python3.9/dist-packages (from importlib-resources>=3.2.0->matplotlib>=3.2.0->pandas-profiling==3.1.0) (3.15.0)\n",
            "Requirement already satisfied: six>=1.5 in /usr/local/lib/python3.9/dist-packages (from python-dateutil>=2.7->matplotlib>=3.2.0->pandas-profiling==3.1.0) (1.16.0)\n",
            "Requirement already satisfied: PyWavelets in /usr/local/lib/python3.9/dist-packages (from imagehash->visions[type_image_path]==0.7.4->pandas-profiling==3.1.0) (1.4.1)\n",
            "Building wheels for collected packages: htmlmin\n",
            "  Building wheel for htmlmin (setup.py) ... \u001b[?25l\u001b[?25hdone\n",
            "  Created wheel for htmlmin: filename=htmlmin-0.1.12-py3-none-any.whl size=27096 sha256=2afeaf2842fa841e8c665c1456c10798c01d6e9bd53870d5a19bd480aaf670cb\n",
            "  Stored in directory: /root/.cache/pip/wheels/1d/05/04/c6d7d3b66539d9e659ac6dfe81e2d0fd4c1a8316cc5a403300\n",
            "Successfully built htmlmin\n",
            "Installing collected packages: htmlmin, tangled-up-in-unicode, multimethod, markupsafe, joblib, imagehash, visions, phik, pandas-profiling\n",
            "  Attempting uninstall: markupsafe\n",
            "    Found existing installation: MarkupSafe 2.1.2\n",
            "    Uninstalling MarkupSafe-2.1.2:\n",
            "      Successfully uninstalled MarkupSafe-2.1.2\n",
            "  Attempting uninstall: joblib\n",
            "    Found existing installation: joblib 1.2.0\n",
            "    Uninstalling joblib-1.2.0:\n",
            "      Successfully uninstalled joblib-1.2.0\n",
            "\u001b[31mERROR: pip's dependency resolver does not currently take into account all the packages that are installed. This behaviour is the source of the following dependency conflicts.\n",
            "werkzeug 2.2.3 requires MarkupSafe>=2.1.1, but you have markupsafe 2.0.1 which is incompatible.\n",
            "scikit-learn 1.2.2 requires joblib>=1.1.1, but you have joblib 1.0.1 which is incompatible.\n",
            "imbalanced-learn 0.10.1 requires joblib>=1.1.1, but you have joblib 1.0.1 which is incompatible.\u001b[0m\u001b[31m\n",
            "\u001b[0mSuccessfully installed htmlmin-0.1.12 imagehash-4.3.1 joblib-1.0.1 markupsafe-2.0.1 multimethod-1.9.1 pandas-profiling-3.1.0 phik-0.12.3 tangled-up-in-unicode-0.1.0 visions-0.7.4\n",
            "Looking in indexes: https://pypi.org/simple, https://us-python.pkg.dev/colab-wheels/public/simple/\n",
            "Collecting scikit-learn==1.1.3\n",
            "  Downloading scikit_learn-1.1.3-cp39-cp39-manylinux_2_17_x86_64.manylinux2014_x86_64.whl (30.8 MB)\n",
            "\u001b[2K     \u001b[90m━━━━━━━━━━━━━━━━━━━━━━━━━━━━━━━━━━━━━━━━\u001b[0m \u001b[32m30.8/30.8 MB\u001b[0m \u001b[31m37.6 MB/s\u001b[0m eta \u001b[36m0:00:00\u001b[0m\n",
            "\u001b[?25hRequirement already satisfied: scipy>=1.3.2 in /usr/local/lib/python3.9/dist-packages (from scikit-learn==1.1.3) (1.10.1)\n",
            "Requirement already satisfied: numpy>=1.17.3 in /usr/local/lib/python3.9/dist-packages (from scikit-learn==1.1.3) (1.22.4)\n",
            "Requirement already satisfied: joblib>=1.0.0 in /usr/local/lib/python3.9/dist-packages (from scikit-learn==1.1.3) (1.0.1)\n",
            "Requirement already satisfied: threadpoolctl>=2.0.0 in /usr/local/lib/python3.9/dist-packages (from scikit-learn==1.1.3) (3.1.0)\n",
            "Installing collected packages: scikit-learn\n",
            "  Attempting uninstall: scikit-learn\n",
            "    Found existing installation: scikit-learn 1.2.2\n",
            "    Uninstalling scikit-learn-1.2.2:\n",
            "      Successfully uninstalled scikit-learn-1.2.2\n",
            "\u001b[31mERROR: pip's dependency resolver does not currently take into account all the packages that are installed. This behaviour is the source of the following dependency conflicts.\n",
            "imbalanced-learn 0.10.1 requires joblib>=1.1.1, but you have joblib 1.0.1 which is incompatible.\u001b[0m\u001b[31m\n",
            "\u001b[0mSuccessfully installed scikit-learn-1.1.3\n"
          ]
        }
      ]
    },
    {
      "cell_type": "code",
      "execution_count": 2,
      "metadata": {
        "id": "bhASXgOVgOZF"
      },
      "outputs": [],
      "source": [
        "import numpy as np\n",
        "import pandas as pd\n",
        "import matplotlib.pyplot as plt\n",
        "import seaborn as sns\n",
        "from sklearn.neighbors import KNeighborsClassifier\n",
        "from sklearn.model_selection import RandomizedSearchCV\n",
        "from sklearn.pipeline import make_pipeline\n",
        "from sklearn.ensemble import RandomForestClassifier\n",
        "from category_encoders import OrdinalEncoder\n",
        "from sklearn.impute import SimpleImputer\n",
        "from scipy.stats import randint, uniform"
      ]
    },
    {
      "cell_type": "markdown",
      "source": [
        "데이터 불러오기"
      ],
      "metadata": {
        "id": "7xsvxsFLifKg"
      }
    },
    {
      "cell_type": "code",
      "source": [
        "naver_shop = pd.read_csv('https://raw.githubusercontent.com/yskim1230/AIB_Section2-PJT_Modeling-Plan/main/naver_shop_FE_comp.csv')"
      ],
      "metadata": {
        "id": "M_46HGH1ievv"
      },
      "execution_count": 3,
      "outputs": []
    },
    {
      "cell_type": "code",
      "source": [
        "naver_shop "
      ],
      "metadata": {
        "colab": {
          "base_uri": "https://localhost:8080/",
          "height": 624
        },
        "id": "cZ7cK05hiwXA",
        "outputId": "210a32fd-8e05-4bba-ed9c-601f1a45f8e5"
      },
      "execution_count": 4,
      "outputs": [
        {
          "output_type": "execute_result",
          "data": {
            "text/plain": [
              "                                             Title  Low price Mall Name  \\\n",
              "0                                     지오다노  372513      21930       네이버   \n",
              "1                          모이몰른  아동 장화 아기옷 어린이집등원룩      35000    모이몰른에덴   \n",
              "2                                             EVA       10900      SABU   \n",
              "3                               날씨요정 아기공룡 유아  장화세트      23800      날씨요정   \n",
              "4                          유가모아 어린이 판초 키즈 아동 여아 남아      15900      유가모아   \n",
              "...                                            ...        ...       ...   \n",
              "16421                              아디다스 여성 기능성 반팔       16400    스포츠전문몰   \n",
              "16422           JORDAN 조던 주니어 보이 짐23 반팔 N232TS392P      35000       네이버   \n",
              "16423  타미힐피거 여성 라운드넥 5버튼 스몰 플래그 골지 긴팔  2컬러 76J3182      29400       네이버   \n",
              "16424                         온앤온 브이넥 반팔  JW2ME507      14700       네이버   \n",
              "16425                플라스틱아일랜드 꽃조직 레터링 배색  PP1CL263      46160       네이버   \n",
              "\n",
              "       Product Type     Maker     Brand category1 category2 category3  \\\n",
              "0                 1      지오다노      지오다노      패션의류      여성의류      레인코트   \n",
              "1                 2      한세드림      모이몰른     출산/육아     유아동의류      레인코트   \n",
              "2                 2  No-Maker  NO-Brand      패션의류      남성의류      레인코트   \n",
              "3                 2  No-Maker      날씨요정     출산/육아     유아동의류      레인코트   \n",
              "4                 2  No-Maker  NO-Brand     출산/육아     유아동의류      레인코트   \n",
              "...             ...       ...       ...       ...       ...       ...   \n",
              "16421             2      아디다스      아디다스      패션의류      여성의류       티셔츠   \n",
              "16422             1       나이키    JORDAN     출산/육아     유아동의류       티셔츠   \n",
              "16423             1     타미힐피거     타미힐피거      패션의류      여성의류       티셔츠   \n",
              "16424             1  No-Maker       온앤온      패션의류      여성의류       티셔츠   \n",
              "16425             1  No-Maker  플라스틱아일랜드      패션의류      여성의류       티셔츠   \n",
              "\n",
              "      Price_range  Maker Point  Brand Point  Price_range_score  Total Point  \n",
              "0      Very Cheap            1            3                  2            7  \n",
              "1      Very Cheap            1            1                  2            4  \n",
              "2      Very Cheap            0            0                  2            2  \n",
              "3      Very Cheap            0            1                  2            3  \n",
              "4      Very Cheap            0            0                  2            2  \n",
              "...           ...          ...          ...                ...          ...  \n",
              "16421  Very Cheap            1            3                  2            7  \n",
              "16422  Very Cheap            1            3                  2            7  \n",
              "16423  Very Cheap            1            3                  2            7  \n",
              "16424  Very Cheap            0            3                  2            6  \n",
              "16425       Cheap            0            3                  2            6  \n",
              "\n",
              "[16426 rows x 14 columns]"
            ],
            "text/html": [
              "\n",
              "  <div id=\"df-59831cf8-7a92-4800-a08d-95caef363ea0\">\n",
              "    <div class=\"colab-df-container\">\n",
              "      <div>\n",
              "<style scoped>\n",
              "    .dataframe tbody tr th:only-of-type {\n",
              "        vertical-align: middle;\n",
              "    }\n",
              "\n",
              "    .dataframe tbody tr th {\n",
              "        vertical-align: top;\n",
              "    }\n",
              "\n",
              "    .dataframe thead th {\n",
              "        text-align: right;\n",
              "    }\n",
              "</style>\n",
              "<table border=\"1\" class=\"dataframe\">\n",
              "  <thead>\n",
              "    <tr style=\"text-align: right;\">\n",
              "      <th></th>\n",
              "      <th>Title</th>\n",
              "      <th>Low price</th>\n",
              "      <th>Mall Name</th>\n",
              "      <th>Product Type</th>\n",
              "      <th>Maker</th>\n",
              "      <th>Brand</th>\n",
              "      <th>category1</th>\n",
              "      <th>category2</th>\n",
              "      <th>category3</th>\n",
              "      <th>Price_range</th>\n",
              "      <th>Maker Point</th>\n",
              "      <th>Brand Point</th>\n",
              "      <th>Price_range_score</th>\n",
              "      <th>Total Point</th>\n",
              "    </tr>\n",
              "  </thead>\n",
              "  <tbody>\n",
              "    <tr>\n",
              "      <th>0</th>\n",
              "      <td>지오다노  372513</td>\n",
              "      <td>21930</td>\n",
              "      <td>네이버</td>\n",
              "      <td>1</td>\n",
              "      <td>지오다노</td>\n",
              "      <td>지오다노</td>\n",
              "      <td>패션의류</td>\n",
              "      <td>여성의류</td>\n",
              "      <td>레인코트</td>\n",
              "      <td>Very Cheap</td>\n",
              "      <td>1</td>\n",
              "      <td>3</td>\n",
              "      <td>2</td>\n",
              "      <td>7</td>\n",
              "    </tr>\n",
              "    <tr>\n",
              "      <th>1</th>\n",
              "      <td>모이몰른  아동 장화 아기옷 어린이집등원룩</td>\n",
              "      <td>35000</td>\n",
              "      <td>모이몰른에덴</td>\n",
              "      <td>2</td>\n",
              "      <td>한세드림</td>\n",
              "      <td>모이몰른</td>\n",
              "      <td>출산/육아</td>\n",
              "      <td>유아동의류</td>\n",
              "      <td>레인코트</td>\n",
              "      <td>Very Cheap</td>\n",
              "      <td>1</td>\n",
              "      <td>1</td>\n",
              "      <td>2</td>\n",
              "      <td>4</td>\n",
              "    </tr>\n",
              "    <tr>\n",
              "      <th>2</th>\n",
              "      <td>EVA</td>\n",
              "      <td>10900</td>\n",
              "      <td>SABU</td>\n",
              "      <td>2</td>\n",
              "      <td>No-Maker</td>\n",
              "      <td>NO-Brand</td>\n",
              "      <td>패션의류</td>\n",
              "      <td>남성의류</td>\n",
              "      <td>레인코트</td>\n",
              "      <td>Very Cheap</td>\n",
              "      <td>0</td>\n",
              "      <td>0</td>\n",
              "      <td>2</td>\n",
              "      <td>2</td>\n",
              "    </tr>\n",
              "    <tr>\n",
              "      <th>3</th>\n",
              "      <td>날씨요정 아기공룡 유아  장화세트</td>\n",
              "      <td>23800</td>\n",
              "      <td>날씨요정</td>\n",
              "      <td>2</td>\n",
              "      <td>No-Maker</td>\n",
              "      <td>날씨요정</td>\n",
              "      <td>출산/육아</td>\n",
              "      <td>유아동의류</td>\n",
              "      <td>레인코트</td>\n",
              "      <td>Very Cheap</td>\n",
              "      <td>0</td>\n",
              "      <td>1</td>\n",
              "      <td>2</td>\n",
              "      <td>3</td>\n",
              "    </tr>\n",
              "    <tr>\n",
              "      <th>4</th>\n",
              "      <td>유가모아 어린이 판초 키즈 아동 여아 남아</td>\n",
              "      <td>15900</td>\n",
              "      <td>유가모아</td>\n",
              "      <td>2</td>\n",
              "      <td>No-Maker</td>\n",
              "      <td>NO-Brand</td>\n",
              "      <td>출산/육아</td>\n",
              "      <td>유아동의류</td>\n",
              "      <td>레인코트</td>\n",
              "      <td>Very Cheap</td>\n",
              "      <td>0</td>\n",
              "      <td>0</td>\n",
              "      <td>2</td>\n",
              "      <td>2</td>\n",
              "    </tr>\n",
              "    <tr>\n",
              "      <th>...</th>\n",
              "      <td>...</td>\n",
              "      <td>...</td>\n",
              "      <td>...</td>\n",
              "      <td>...</td>\n",
              "      <td>...</td>\n",
              "      <td>...</td>\n",
              "      <td>...</td>\n",
              "      <td>...</td>\n",
              "      <td>...</td>\n",
              "      <td>...</td>\n",
              "      <td>...</td>\n",
              "      <td>...</td>\n",
              "      <td>...</td>\n",
              "      <td>...</td>\n",
              "    </tr>\n",
              "    <tr>\n",
              "      <th>16421</th>\n",
              "      <td>아디다스 여성 기능성 반팔</td>\n",
              "      <td>16400</td>\n",
              "      <td>스포츠전문몰</td>\n",
              "      <td>2</td>\n",
              "      <td>아디다스</td>\n",
              "      <td>아디다스</td>\n",
              "      <td>패션의류</td>\n",
              "      <td>여성의류</td>\n",
              "      <td>티셔츠</td>\n",
              "      <td>Very Cheap</td>\n",
              "      <td>1</td>\n",
              "      <td>3</td>\n",
              "      <td>2</td>\n",
              "      <td>7</td>\n",
              "    </tr>\n",
              "    <tr>\n",
              "      <th>16422</th>\n",
              "      <td>JORDAN 조던 주니어 보이 짐23 반팔 N232TS392P</td>\n",
              "      <td>35000</td>\n",
              "      <td>네이버</td>\n",
              "      <td>1</td>\n",
              "      <td>나이키</td>\n",
              "      <td>JORDAN</td>\n",
              "      <td>출산/육아</td>\n",
              "      <td>유아동의류</td>\n",
              "      <td>티셔츠</td>\n",
              "      <td>Very Cheap</td>\n",
              "      <td>1</td>\n",
              "      <td>3</td>\n",
              "      <td>2</td>\n",
              "      <td>7</td>\n",
              "    </tr>\n",
              "    <tr>\n",
              "      <th>16423</th>\n",
              "      <td>타미힐피거 여성 라운드넥 5버튼 스몰 플래그 골지 긴팔  2컬러 76J3182</td>\n",
              "      <td>29400</td>\n",
              "      <td>네이버</td>\n",
              "      <td>1</td>\n",
              "      <td>타미힐피거</td>\n",
              "      <td>타미힐피거</td>\n",
              "      <td>패션의류</td>\n",
              "      <td>여성의류</td>\n",
              "      <td>티셔츠</td>\n",
              "      <td>Very Cheap</td>\n",
              "      <td>1</td>\n",
              "      <td>3</td>\n",
              "      <td>2</td>\n",
              "      <td>7</td>\n",
              "    </tr>\n",
              "    <tr>\n",
              "      <th>16424</th>\n",
              "      <td>온앤온 브이넥 반팔  JW2ME507</td>\n",
              "      <td>14700</td>\n",
              "      <td>네이버</td>\n",
              "      <td>1</td>\n",
              "      <td>No-Maker</td>\n",
              "      <td>온앤온</td>\n",
              "      <td>패션의류</td>\n",
              "      <td>여성의류</td>\n",
              "      <td>티셔츠</td>\n",
              "      <td>Very Cheap</td>\n",
              "      <td>0</td>\n",
              "      <td>3</td>\n",
              "      <td>2</td>\n",
              "      <td>6</td>\n",
              "    </tr>\n",
              "    <tr>\n",
              "      <th>16425</th>\n",
              "      <td>플라스틱아일랜드 꽃조직 레터링 배색  PP1CL263</td>\n",
              "      <td>46160</td>\n",
              "      <td>네이버</td>\n",
              "      <td>1</td>\n",
              "      <td>No-Maker</td>\n",
              "      <td>플라스틱아일랜드</td>\n",
              "      <td>패션의류</td>\n",
              "      <td>여성의류</td>\n",
              "      <td>티셔츠</td>\n",
              "      <td>Cheap</td>\n",
              "      <td>0</td>\n",
              "      <td>3</td>\n",
              "      <td>2</td>\n",
              "      <td>6</td>\n",
              "    </tr>\n",
              "  </tbody>\n",
              "</table>\n",
              "<p>16426 rows × 14 columns</p>\n",
              "</div>\n",
              "      <button class=\"colab-df-convert\" onclick=\"convertToInteractive('df-59831cf8-7a92-4800-a08d-95caef363ea0')\"\n",
              "              title=\"Convert this dataframe to an interactive table.\"\n",
              "              style=\"display:none;\">\n",
              "        \n",
              "  <svg xmlns=\"http://www.w3.org/2000/svg\" height=\"24px\"viewBox=\"0 0 24 24\"\n",
              "       width=\"24px\">\n",
              "    <path d=\"M0 0h24v24H0V0z\" fill=\"none\"/>\n",
              "    <path d=\"M18.56 5.44l.94 2.06.94-2.06 2.06-.94-2.06-.94-.94-2.06-.94 2.06-2.06.94zm-11 1L8.5 8.5l.94-2.06 2.06-.94-2.06-.94L8.5 2.5l-.94 2.06-2.06.94zm10 10l.94 2.06.94-2.06 2.06-.94-2.06-.94-.94-2.06-.94 2.06-2.06.94z\"/><path d=\"M17.41 7.96l-1.37-1.37c-.4-.4-.92-.59-1.43-.59-.52 0-1.04.2-1.43.59L10.3 9.45l-7.72 7.72c-.78.78-.78 2.05 0 2.83L4 21.41c.39.39.9.59 1.41.59.51 0 1.02-.2 1.41-.59l7.78-7.78 2.81-2.81c.8-.78.8-2.07 0-2.86zM5.41 20L4 18.59l7.72-7.72 1.47 1.35L5.41 20z\"/>\n",
              "  </svg>\n",
              "      </button>\n",
              "      \n",
              "  <style>\n",
              "    .colab-df-container {\n",
              "      display:flex;\n",
              "      flex-wrap:wrap;\n",
              "      gap: 12px;\n",
              "    }\n",
              "\n",
              "    .colab-df-convert {\n",
              "      background-color: #E8F0FE;\n",
              "      border: none;\n",
              "      border-radius: 50%;\n",
              "      cursor: pointer;\n",
              "      display: none;\n",
              "      fill: #1967D2;\n",
              "      height: 32px;\n",
              "      padding: 0 0 0 0;\n",
              "      width: 32px;\n",
              "    }\n",
              "\n",
              "    .colab-df-convert:hover {\n",
              "      background-color: #E2EBFA;\n",
              "      box-shadow: 0px 1px 2px rgba(60, 64, 67, 0.3), 0px 1px 3px 1px rgba(60, 64, 67, 0.15);\n",
              "      fill: #174EA6;\n",
              "    }\n",
              "\n",
              "    [theme=dark] .colab-df-convert {\n",
              "      background-color: #3B4455;\n",
              "      fill: #D2E3FC;\n",
              "    }\n",
              "\n",
              "    [theme=dark] .colab-df-convert:hover {\n",
              "      background-color: #434B5C;\n",
              "      box-shadow: 0px 1px 3px 1px rgba(0, 0, 0, 0.15);\n",
              "      filter: drop-shadow(0px 1px 2px rgba(0, 0, 0, 0.3));\n",
              "      fill: #FFFFFF;\n",
              "    }\n",
              "  </style>\n",
              "\n",
              "      <script>\n",
              "        const buttonEl =\n",
              "          document.querySelector('#df-59831cf8-7a92-4800-a08d-95caef363ea0 button.colab-df-convert');\n",
              "        buttonEl.style.display =\n",
              "          google.colab.kernel.accessAllowed ? 'block' : 'none';\n",
              "\n",
              "        async function convertToInteractive(key) {\n",
              "          const element = document.querySelector('#df-59831cf8-7a92-4800-a08d-95caef363ea0');\n",
              "          const dataTable =\n",
              "            await google.colab.kernel.invokeFunction('convertToInteractive',\n",
              "                                                     [key], {});\n",
              "          if (!dataTable) return;\n",
              "\n",
              "          const docLinkHtml = 'Like what you see? Visit the ' +\n",
              "            '<a target=\"_blank\" href=https://colab.research.google.com/notebooks/data_table.ipynb>data table notebook</a>'\n",
              "            + ' to learn more about interactive tables.';\n",
              "          element.innerHTML = '';\n",
              "          dataTable['output_type'] = 'display_data';\n",
              "          await google.colab.output.renderOutput(dataTable, element);\n",
              "          const docLink = document.createElement('div');\n",
              "          docLink.innerHTML = docLinkHtml;\n",
              "          element.appendChild(docLink);\n",
              "        }\n",
              "      </script>\n",
              "    </div>\n",
              "  </div>\n",
              "  "
            ]
          },
          "metadata": {},
          "execution_count": 4
        }
      ]
    },
    {
      "cell_type": "code",
      "source": [
        "# 가격예측이 목적이므로 타겟은 Price_range\t\n",
        "target = 'Price_range'\n",
        "\n",
        "# 타겟이 범주형데이터이므로 분류문제로 해결\n",
        "import seaborn as sns\n",
        "import matplotlib.pyplot as plt\n",
        "fig = sns.displot(naver_shop[target])\n",
        "fig.fig.set_size_inches(10,6)"
      ],
      "metadata": {
        "colab": {
          "base_uri": "https://localhost:8080/",
          "height": 592
        },
        "id": "893O5h9Hi48V",
        "outputId": "3726bc4b-5927-4651-db70-e51078db91fd"
      },
      "execution_count": 5,
      "outputs": [
        {
          "output_type": "display_data",
          "data": {
            "text/plain": [
              "<Figure size 1000x600 with 1 Axes>"
            ],
            "image/png": "[encoded data removed]"
          },
          "metadata": {}
        }
      ]
    },
    {
      "cell_type": "code",
      "source": [
        "naver_shop[target].value_counts(normalize=True)"
      ],
      "metadata": {
        "colab": {
          "base_uri": "https://localhost:8080/"
        },
        "id": "tt_3jlN_jJNs",
        "outputId": "00aec5d9-ed60-4c9e-b205-4fcd2b5e7aef"
      },
      "execution_count": 6,
      "outputs": [
        {
          "output_type": "execute_result",
          "data": {
            "text/plain": [
              "Very Cheap    0.535614\n",
              "Cheap         0.294594\n",
              "Moderate      0.102460\n",
              "Expensive     0.067332\n",
              "Name: Price_range, dtype: float64"
            ]
          },
          "metadata": {},
          "execution_count": 6
        }
      ]
    },
    {
      "cell_type": "code",
      "source": [
        "major = naver_shop[target].mode()[0]\n",
        "pred = [major] * len(naver_shop[target])"
      ],
      "metadata": {
        "id": "EM3DlZeAkHlZ"
      },
      "execution_count": 7,
      "outputs": []
    },
    {
      "cell_type": "code",
      "source": [
        "from sklearn.metrics import f1_score\n",
        "import sklearn.metrics as metrics\n",
        "\n",
        "# 기준모델의 평가지표\n",
        "print(\"training accuracy: \", metrics.f1_score(naver_shop[target], pred,average ='weighted'))"
      ],
      "metadata": {
        "colab": {
          "base_uri": "https://localhost:8080/"
        },
        "id": "depmlFLSkMRT",
        "outputId": "898a429b-fa76-4407-8aad-cc09e6b12a8f"
      },
      "execution_count": 8,
      "outputs": [
        {
          "output_type": "stream",
          "name": "stdout",
          "text": [
            "training accuracy:  0.37363894291031574\n"
          ]
        }
      ]
    },
    {
      "cell_type": "code",
      "source": [
        "from sklearn.model_selection import train_test_split\n",
        "train, test = train_test_split(naver_shop, train_size=0.7, stratify=naver_shop[target], random_state=2)"
      ],
      "metadata": {
        "id": "WYYEZQ7vkSvx"
      },
      "execution_count": 9,
      "outputs": []
    },
    {
      "cell_type": "code",
      "source": [
        "train.shape,test.shape"
      ],
      "metadata": {
        "colab": {
          "base_uri": "https://localhost:8080/"
        },
        "id": "JO_wmoFFkZ0D",
        "outputId": "a9b1713c-6d6b-44c1-89b8-9ee6f3de095a"
      },
      "execution_count": 10,
      "outputs": [
        {
          "output_type": "execute_result",
          "data": {
            "text/plain": [
              "((11498, 14), (4928, 14))"
            ]
          },
          "metadata": {},
          "execution_count": 10
        }
      ]
    },
    {
      "cell_type": "code",
      "source": [
        "import pandas as pd\n",
        "import numpy as np\n",
        "from sklearn.model_selection import train_test_split\n",
        "\n",
        "def divide_data(df):\n",
        "    X = df.drop(['Price_range','Low price'], axis = 1)\n",
        "    y = df['Price_range']\n",
        "    return X, y"
      ],
      "metadata": {
        "id": "35eCte2jkcji"
      },
      "execution_count": 60,
      "outputs": []
    },
    {
      "cell_type": "code",
      "source": [
        "train, test = train_test_split(naver_shop, train_size=0.7, stratify=naver_shop[target], random_state=2)\n",
        "X_train, y_train = divide_data(train)\n",
        "X_test, y_test = divide_data(test)"
      ],
      "metadata": {
        "id": "CHfv-IFskoDp"
      },
      "execution_count": 61,
      "outputs": []
    },
    {
      "cell_type": "code",
      "source": [
        "print(X_train.shape,y_train.shape)\n",
        "print(X_test.shape,y_test.shape)"
      ],
      "metadata": {
        "colab": {
          "base_uri": "https://localhost:8080/"
        },
        "id": "BFV_egeLktY2",
        "outputId": "c181b24e-24ac-461b-ae21-4b0d0186c8a4"
      },
      "execution_count": 62,
      "outputs": [
        {
          "output_type": "stream",
          "name": "stdout",
          "text": [
            "(11498, 12) (11498,)\n",
            "(4928, 12) (4928,)\n"
          ]
        }
      ]
    },
    {
      "cell_type": "code",
      "source": [
        "!pip install xgboost"
      ],
      "metadata": {
        "colab": {
          "base_uri": "https://localhost:8080/"
        },
        "id": "KoW3WKjskyFg",
        "outputId": "7f89944d-19c3-41ae-c22c-14c43fcab0fa"
      },
      "execution_count": 63,
      "outputs": [
        {
          "output_type": "stream",
          "name": "stdout",
          "text": [
            "Looking in indexes: https://pypi.org/simple, https://us-python.pkg.dev/colab-wheels/public/simple/\n",
            "Requirement already satisfied: xgboost in /usr/local/lib/python3.9/dist-packages (1.7.5)\n",
            "Requirement already satisfied: scipy in /usr/local/lib/python3.9/dist-packages (from xgboost) (1.10.1)\n",
            "Requirement already satisfied: numpy in /usr/local/lib/python3.9/dist-packages (from xgboost) (1.22.4)\n"
          ]
        }
      ]
    },
    {
      "cell_type": "code",
      "source": [
        "from sklearn.metrics import accuracy_score, precision_score, recall_score, confusion_matrix\n",
        "\n",
        "def get_clf_eval(y_test, pred):\n",
        "    confusion = confusion_matrix(y_test, pred)\n",
        "    accuracy = accuracy_score(y_test, pred)\n",
        "    precision = precision_score(y_test, pred,average='weighted')\n",
        "    recall = recall_score(y_test, pred,average='weighted')\n",
        "    print('Confusion Matrix')\n",
        "    print(confusion)\n",
        "    print('정확도:{}, 정밀도:{}, 재현율:{}'.format(accuracy, precision, recall))"
      ],
      "metadata": {
        "id": "E7vVuQyak0ux"
      },
      "execution_count": 64,
      "outputs": []
    },
    {
      "cell_type": "code",
      "source": [
        "import warnings\n",
        "warnings.filterwarnings(action='ignore')"
      ],
      "metadata": {
        "id": "AMZ3L-qUlJy8"
      },
      "execution_count": 65,
      "outputs": []
    },
    {
      "cell_type": "code",
      "source": [
        "train, test = train_test_split(naver_shop, train_size=0.7, stratify=naver_shop[target], random_state=2)\n",
        "X_train, y_train = divide_data(train)\n",
        "X_test, y_test = divide_data(test)"
      ],
      "metadata": {
        "id": "eyf2JU1olP_Z"
      },
      "execution_count": 66,
      "outputs": []
    },
    {
      "cell_type": "code",
      "source": [
        "from sklearn.model_selection import RandomizedSearchCV\n",
        "from sklearn.pipeline import make_pipeline\n",
        "from sklearn.metrics import classification_report\n",
        "\n",
        "# import any libraries needed\n",
        "\n",
        "from sklearn.ensemble import RandomForestClassifier\n",
        "from category_encoders import OrdinalEncoder\n",
        "from sklearn.impute import SimpleImputer\n",
        "from scipy.stats import randint, uniform\n",
        "\n",
        "def fit_rf(X_train, y_train):\n",
        "\n",
        "    pipe = make_pipeline(\n",
        "    OrdinalEncoder(),\n",
        "    SimpleImputer(),  \n",
        "    RandomForestClassifier(class_weight = \"balanced\", random_state=42)\n",
        "    )\n",
        "    dists = {\n",
        "    'randomforestclassifier__max_depth' : randint(1, 30),\n",
        "    'randomforestclassifier__max_features' : randint(1, 10),\n",
        "    'randomforestclassifier__n_estimators' : randint(1, 300)\n",
        "    }\n",
        "    clf = RandomizedSearchCV(\n",
        "    pipe, \n",
        "    param_distributions=dists, \n",
        "    n_iter=10, \n",
        "    cv=5, \n",
        "    scoring='f1',  \n",
        "    verbose=1,\n",
        "    n_jobs=-1,\n",
        "    random_state = 42\n",
        "    )\n",
        "\n",
        "    clf.fit(X_train, y_train)\n",
        "    print(\"Optimal Hyperparameter:\", clf.best_params_)\n",
        "\n",
        "    return clf"
      ],
      "metadata": {
        "id": "iEHK6RtnlZwH"
      },
      "execution_count": 67,
      "outputs": []
    },
    {
      "cell_type": "code",
      "source": [
        "clf_rf = fit_rf(X_train, y_train)"
      ],
      "metadata": {
        "colab": {
          "base_uri": "https://localhost:8080/"
        },
        "id": "yQPBnpHklhlG",
        "outputId": "aa4c03fd-bf86-45e5-932b-58966999560a"
      },
      "execution_count": 68,
      "outputs": [
        {
          "output_type": "stream",
          "name": "stdout",
          "text": [
            "Fitting 5 folds for each of 10 candidates, totalling 50 fits\n",
            "Optimal Hyperparameter: {'randomforestclassifier__max_depth': 7, 'randomforestclassifier__max_features': 4, 'randomforestclassifier__n_estimators': 271}\n"
          ]
        }
      ]
    },
    {
      "cell_type": "code",
      "source": [
        "pred_rf = clf_rf.predict(X_test)\n",
        "get_clf_eval(y_test, pred_rf)\n",
        "f1 = f1_score(y_test, pred_rf,average='weighted')\n",
        "print('f1 score :', f1)"
      ],
      "metadata": {
        "colab": {
          "base_uri": "https://localhost:8080/"
        },
        "id": "BiOP_c5Cl74U",
        "outputId": "f73114f2-78c8-4b77-c861-0baf2c25e0e5"
      },
      "execution_count": 69,
      "outputs": [
        {
          "output_type": "stream",
          "name": "stdout",
          "text": [
            "Confusion Matrix\n",
            "[[ 969    0    0  483]\n",
            " [   0  183  149    0]\n",
            " [   0  211  294    0]\n",
            " [ 680    0    0 1959]]\n",
            "정확도:0.6909496753246753, 정밀도:0.7020337890595111, 재현율:0.6909496753246753\n",
            "f1 score : 0.6946013316368426\n"
          ]
        }
      ]
    },
    {
      "cell_type": "code",
      "source": [
        "train, test = train_test_split(naver_shop, train_size=0.7, stratify=naver_shop[target], random_state=2)\n",
        "X_train, y_train = divide_data(train)\n",
        "X_test, y_test = divide_data(test)"
      ],
      "metadata": {
        "id": "LBJBoMapl9Jz"
      },
      "execution_count": 70,
      "outputs": []
    },
    {
      "cell_type": "code",
      "source": [
        "!pip install catboost"
      ],
      "metadata": {
        "colab": {
          "base_uri": "https://localhost:8080/"
        },
        "id": "zxxH5cvwmXzC",
        "outputId": "aa2849ec-b423-496d-9a0c-ca91088d7c34"
      },
      "execution_count": 71,
      "outputs": [
        {
          "output_type": "stream",
          "name": "stdout",
          "text": [
            "Looking in indexes: https://pypi.org/simple, https://us-python.pkg.dev/colab-wheels/public/simple/\n",
            "Requirement already satisfied: catboost in /usr/local/lib/python3.9/dist-packages (1.1.1)\n",
            "Requirement already satisfied: six in /usr/local/lib/python3.9/dist-packages (from catboost) (1.16.0)\n",
            "Requirement already satisfied: scipy in /usr/local/lib/python3.9/dist-packages (from catboost) (1.10.1)\n",
            "Requirement already satisfied: matplotlib in /usr/local/lib/python3.9/dist-packages (from catboost) (3.7.1)\n",
            "Requirement already satisfied: pandas>=0.24.0 in /usr/local/lib/python3.9/dist-packages (from catboost) (1.5.3)\n",
            "Requirement already satisfied: plotly in /usr/local/lib/python3.9/dist-packages (from catboost) (5.13.1)\n",
            "Requirement already satisfied: graphviz in /usr/local/lib/python3.9/dist-packages (from catboost) (0.20.1)\n",
            "Requirement already satisfied: numpy>=1.16.0 in /usr/local/lib/python3.9/dist-packages (from catboost) (1.22.4)\n",
            "Requirement already satisfied: python-dateutil>=2.8.1 in /usr/local/lib/python3.9/dist-packages (from pandas>=0.24.0->catboost) (2.8.2)\n",
            "Requirement already satisfied: pytz>=2020.1 in /usr/local/lib/python3.9/dist-packages (from pandas>=0.24.0->catboost) (2022.7.1)\n",
            "Requirement already satisfied: contourpy>=1.0.1 in /usr/local/lib/python3.9/dist-packages (from matplotlib->catboost) (1.0.7)\n",
            "Requirement already satisfied: fonttools>=4.22.0 in /usr/local/lib/python3.9/dist-packages (from matplotlib->catboost) (4.39.3)\n",
            "Requirement already satisfied: packaging>=20.0 in /usr/local/lib/python3.9/dist-packages (from matplotlib->catboost) (23.0)\n",
            "Requirement already satisfied: pillow>=6.2.0 in /usr/local/lib/python3.9/dist-packages (from matplotlib->catboost) (8.4.0)\n",
            "Requirement already satisfied: pyparsing>=2.3.1 in /usr/local/lib/python3.9/dist-packages (from matplotlib->catboost) (3.0.9)\n",
            "Requirement already satisfied: kiwisolver>=1.0.1 in /usr/local/lib/python3.9/dist-packages (from matplotlib->catboost) (1.4.4)\n",
            "Requirement already satisfied: importlib-resources>=3.2.0 in /usr/local/lib/python3.9/dist-packages (from matplotlib->catboost) (5.12.0)\n",
            "Requirement already satisfied: cycler>=0.10 in /usr/local/lib/python3.9/dist-packages (from matplotlib->catboost) (0.11.0)\n",
            "Requirement already satisfied: tenacity>=6.2.0 in /usr/local/lib/python3.9/dist-packages (from plotly->catboost) (8.2.2)\n",
            "Requirement already satisfied: zipp>=3.1.0 in /usr/local/lib/python3.9/dist-packages (from importlib-resources>=3.2.0->matplotlib->catboost) (3.15.0)\n"
          ]
        }
      ]
    },
    {
      "cell_type": "code",
      "source": [
        "from catboost import CatBoostClassifier\n",
        "\n",
        "def fit_cb(X_train, y_train):\n",
        "    # YOUR CODE HERE\n",
        "    pipe = make_pipeline(\n",
        "    OrdinalEncoder(),\n",
        "    SimpleImputer(),  \n",
        "    CatBoostClassifier(loss_function = 'MultiClass',class_weights=[0.619,0.818,0.916,0.953],early_stopping_rounds=35,verbose=100)\n",
        "    )\n",
        "    # YOUR CODE ENDS HERE\n",
        "    pipe.fit(X_train, y_train)\n",
        "\n",
        "    return pipe"
      ],
      "metadata": {
        "id": "w99aAo2kmc-E"
      },
      "execution_count": 72,
      "outputs": []
    },
    {
      "cell_type": "code",
      "source": [
        "clf_cb = fit_cb(X_train, y_train)"
      ],
      "metadata": {
        "colab": {
          "base_uri": "https://localhost:8080/"
        },
        "id": "ClXld-Qsmf-o",
        "outputId": "288a0865-b5f6-4b65-b308-47d4043065c6"
      },
      "execution_count": 73,
      "outputs": [
        {
          "output_type": "stream",
          "name": "stdout",
          "text": [
            "Learning rate set to 0.089622\n",
            "0:\tlearn: 1.2597099\ttotal: 24.3ms\tremaining: 24.3s\n",
            "100:\tlearn: 0.4971184\ttotal: 1.74s\tremaining: 15.5s\n",
            "200:\tlearn: 0.4711228\ttotal: 3s\tremaining: 11.9s\n",
            "300:\tlearn: 0.4543544\ttotal: 4s\tremaining: 9.3s\n",
            "400:\tlearn: 0.4404047\ttotal: 6.89s\tremaining: 10.3s\n",
            "500:\tlearn: 0.4294844\ttotal: 11.2s\tremaining: 11.2s\n",
            "600:\tlearn: 0.4199668\ttotal: 14.3s\tremaining: 9.52s\n",
            "700:\tlearn: 0.4104665\ttotal: 17.3s\tremaining: 7.37s\n",
            "800:\tlearn: 0.4018178\ttotal: 20.2s\tremaining: 5.01s\n",
            "900:\tlearn: 0.3940782\ttotal: 23.3s\tremaining: 2.56s\n",
            "999:\tlearn: 0.3871084\ttotal: 27.4s\tremaining: 0us\n"
          ]
        }
      ]
    },
    {
      "cell_type": "code",
      "source": [
        "pred_cb = clf_cb.predict(X_test)\n",
        "get_clf_eval(y_test, pred_cb)\n",
        "f1 = f1_score(y_test, pred_cb,average='weighted')\n",
        "print('f1 score :', f1)"
      ],
      "metadata": {
        "colab": {
          "base_uri": "https://localhost:8080/"
        },
        "id": "AxQIA3-Omii5",
        "outputId": "77bf721d-7d88-4f4b-ad61-0eb3deb779e2"
      },
      "execution_count": 74,
      "outputs": [
        {
          "output_type": "stream",
          "name": "stdout",
          "text": [
            "Confusion Matrix\n",
            "[[ 614    0    0  838]\n",
            " [   0  127  205    0]\n",
            " [   0  145  360    0]\n",
            " [ 314    0    0 2325]]\n",
            "정확도:0.695211038961039, 정밀도:0.685330882401562, 재현율:0.695211038961039\n",
            "f1 score : 0.6784969265325614\n"
          ]
        }
      ]
    },
    {
      "cell_type": "code",
      "source": [
        "train, test = train_test_split(naver_shop, train_size=0.7, stratify=naver_shop[target], random_state=2)\n",
        "X_train, y_train = divide_data(train)\n",
        "X_test, y_test = divide_data(test)\n",
        "\n",
        "from sklearn.preprocessing import LabelEncoder\n",
        "\n",
        "le = LabelEncoder()\n",
        "y_train_encoded = le.fit_transform(y_train)\n",
        "y_test_encoded = le.fit_transform(y_test)"
      ],
      "metadata": {
        "id": "TFesVSVnm1Bu"
      },
      "execution_count": 75,
      "outputs": []
    },
    {
      "cell_type": "code",
      "source": [
        "# XGBClassifier\n",
        "from sklearn.utils import class_weight\n",
        "from xgboost import XGBClassifier\n",
        "\n",
        "def fit_xg(X_train, y_train):\n",
        "\n",
        "    processor = make_pipeline(\n",
        "    OrdinalEncoder(),\n",
        "    SimpleImputer(strategy='median')\n",
        "    )\n",
        "    X_train_processed = processor.fit_transform(X_train)\n",
        "\n",
        "    classes_weights = class_weight.compute_sample_weight(\n",
        "        class_weight='balanced',\n",
        "        y=y_train_encoded\n",
        "    )\n",
        "    \n",
        "    clf = XGBClassifier(eval_metric='mlogloss',max_depth = 21,n_estimators = 190)\n",
        "    clf.fit(X_train_processed, y_train_encoded, sample_weight=classes_weights)\n",
        "\n",
        "    return clf"
      ],
      "metadata": {
        "id": "XZKurXGZm9Zl"
      },
      "execution_count": 76,
      "outputs": []
    },
    {
      "cell_type": "code",
      "source": [
        "clf_xg = fit_xg(X_train, y_train)"
      ],
      "metadata": {
        "id": "xEDISlkqm_k9"
      },
      "execution_count": 77,
      "outputs": []
    },
    {
      "cell_type": "code",
      "source": [
        "processor = make_pipeline(\n",
        "    OrdinalEncoder(),\n",
        "    SimpleImputer(strategy='median')\n",
        "    )\n",
        "X_test_processed = processor.fit_transform(X_test)\n",
        "\n",
        "pred_xg = clf_xg.predict(X_test_processed)\n",
        "\n",
        "get_clf_eval(y_test_encoded, pred_xg)\n",
        "\n",
        "f1 = f1_score(y_test_encoded, pred_xg,average='weighted')\n",
        "print('f1 score :', f1)"
      ],
      "metadata": {
        "colab": {
          "base_uri": "https://localhost:8080/"
        },
        "id": "bxE5yN7OnqC4",
        "outputId": "6ff9d99e-cfe1-4db4-f037-539ddec4fdf0"
      },
      "execution_count": 78,
      "outputs": [
        {
          "output_type": "stream",
          "name": "stdout",
          "text": [
            "Confusion Matrix\n",
            "[[ 322    0    0 1130]\n",
            " [   0   59  273    0]\n",
            " [   0  116  389    0]\n",
            " [ 461    0    0 2178]]\n",
            "정확도:0.5982142857142857, 정밀도:0.5566807481483583, 재현율:0.5982142857142857\n",
            "f1 score : 0.5611423518794664\n"
          ]
        }
      ]
    },
    {
      "cell_type": "code",
      "source": [
        "import seaborn as sns\n",
        "import matplotlib.pyplot as plt\n",
        "df_by_group = pd.DataFrame(columns=['model 1', 'f1'])"
      ],
      "metadata": {
        "id": "UmaJgOZYn7NI"
      },
      "execution_count": 109,
      "outputs": []
    },
    {
      "cell_type": "code",
      "source": [
        "data_to_insert = {'model 1': 'baseline','f1': 0.37363}\n",
        "df_by_group = df_by_group.append(data_to_insert, ignore_index=True)"
      ],
      "metadata": {
        "id": "X3GmcC6en81Y"
      },
      "execution_count": 110,
      "outputs": []
    },
    {
      "cell_type": "code",
      "source": [
        "data_to_insert = {'model 1': 'RandomForestClassifier','f1': 0.69460}\n",
        "df_by_group = df_by_group.append(data_to_insert, ignore_index=True)"
      ],
      "metadata": {
        "id": "Zk_ODUhMn-My"
      },
      "execution_count": 111,
      "outputs": []
    },
    {
      "cell_type": "code",
      "source": [
        "data_to_insert = {'model 1': 'CatBoostClassifier','f1': 0.67849}\n",
        "df_by_group = df_by_group.append(data_to_insert, ignore_index=True)"
      ],
      "metadata": {
        "id": "JEHmv6xHn_58"
      },
      "execution_count": 112,
      "outputs": []
    },
    {
      "cell_type": "code",
      "source": [
        "data_to_insert = {'model 1': 'XGBClassifier','f1': 0.56114}\n",
        "df_by_group = df_by_group.append(data_to_insert, ignore_index=True)"
      ],
      "metadata": {
        "id": "LO_Aa2pfoBeo"
      },
      "execution_count": 113,
      "outputs": []
    },
    {
      "cell_type": "code",
      "source": [
        "df_by_group.plot.bar(x='model 1',y='f1',rot=0)\n",
        "plt.xticks(rotation=45)"
      ],
      "metadata": {
        "colab": {
          "base_uri": "https://localhost:8080/",
          "height": 650
        },
        "id": "4UGl9bqfoCa7",
        "outputId": "f2b6f4ab-137d-47a4-fa6f-91a9bce8aa65"
      },
      "execution_count": 114,
      "outputs": [
        {
          "output_type": "execute_result",
          "data": {
            "text/plain": [
              "(array([0, 1, 2, 3]),\n",
              " [Text(0, 0, 'baseline'),\n",
              "  Text(1, 0, 'RandomForestClassifier'),\n",
              "  Text(2, 0, 'CatBoostClassifier'),\n",
              "  Text(3, 0, 'XGBClassifier')])"
            ]
          },
          "metadata": {},
          "execution_count": 114
        },
        {
          "output_type": "display_data",
          "data": {
            "text/plain": [
              "<Figure size 640x480 with 1 Axes>"
            ],
            "image/png": "[encoded data removed]"
          },
          "metadata": {}
        }
      ]
    },
    {
      "cell_type": "code",
      "source": [
        "train, test = train_test_split(naver_shop, train_size=0.7, stratify=naver_shop[target], random_state=2)\n",
        "X_train, y_train = divide_data(train)\n",
        "X_test, y_test = divide_data(test)"
      ],
      "metadata": {
        "id": "GPVmxMINoKCp"
      },
      "execution_count": 85,
      "outputs": []
    },
    {
      "cell_type": "code",
      "source": [
        "from sklearn.model_selection import cross_val_score\n",
        "from sklearn.metrics import make_scorer\n",
        "\n",
        "# (참고) warning 제거를 위한 코드\n",
        "np.seterr(divide='ignore', invalid='ignore')\n",
        "\n",
        "pipe = make_pipeline(\n",
        "    OrdinalEncoder(), \n",
        "    SimpleImputer(strategy='mean'),\n",
        "    CatBoostClassifier(loss_function = 'MultiClass',class_weights=[0.619,0.818,0.916,0.953],early_stopping_rounds=35,verbose=100)\n",
        ")\n",
        "\n",
        "# 5-fold 교차검증을 수행합니다.\n",
        "k = 5\n",
        "scores = cross_val_score(pipe, X_train, y_train, cv=k, scoring=make_scorer(f1_score,average ='weighted'))\n",
        "\n",
        "print(f'f1 ({k} folds):', scores)"
      ],
      "metadata": {
        "colab": {
          "base_uri": "https://localhost:8080/"
        },
        "id": "TuezHgWgoavV",
        "outputId": "12da5183-7755-4ca9-e134-fd340798a6ce"
      },
      "execution_count": 86,
      "outputs": [
        {
          "output_type": "stream",
          "name": "stdout",
          "text": [
            "Learning rate set to 0.088608\n",
            "0:\tlearn: 1.2582501\ttotal: 15.5ms\tremaining: 15.5s\n",
            "100:\tlearn: 0.4903357\ttotal: 999ms\tremaining: 8.89s\n",
            "200:\tlearn: 0.4620035\ttotal: 1.95s\tremaining: 7.74s\n",
            "300:\tlearn: 0.4428015\ttotal: 2.83s\tremaining: 6.58s\n",
            "400:\tlearn: 0.4283029\ttotal: 3.72s\tremaining: 5.55s\n",
            "500:\tlearn: 0.4164772\ttotal: 5.49s\tremaining: 5.46s\n",
            "600:\tlearn: 0.4057622\ttotal: 7.99s\tremaining: 5.31s\n",
            "700:\tlearn: 0.3959295\ttotal: 9.3s\tremaining: 3.97s\n",
            "800:\tlearn: 0.3870560\ttotal: 10.2s\tremaining: 2.54s\n",
            "900:\tlearn: 0.3791213\ttotal: 11.1s\tremaining: 1.22s\n",
            "999:\tlearn: 0.3719180\ttotal: 11.9s\tremaining: 0us\n",
            "Learning rate set to 0.088608\n",
            "0:\tlearn: 1.2624726\ttotal: 9.07ms\tremaining: 9.06s\n",
            "100:\tlearn: 0.4948359\ttotal: 895ms\tremaining: 7.96s\n",
            "200:\tlearn: 0.4660643\ttotal: 1.79s\tremaining: 7.13s\n",
            "300:\tlearn: 0.4478951\ttotal: 2.68s\tremaining: 6.22s\n",
            "400:\tlearn: 0.4326700\ttotal: 3.56s\tremaining: 5.32s\n",
            "500:\tlearn: 0.4191189\ttotal: 4.43s\tremaining: 4.41s\n",
            "600:\tlearn: 0.4086607\ttotal: 5.29s\tremaining: 3.51s\n",
            "700:\tlearn: 0.3982900\ttotal: 6.18s\tremaining: 2.64s\n",
            "800:\tlearn: 0.3887583\ttotal: 8.27s\tremaining: 2.06s\n",
            "900:\tlearn: 0.3802639\ttotal: 10.6s\tremaining: 1.17s\n",
            "999:\tlearn: 0.3727827\ttotal: 11.5s\tremaining: 0us\n",
            "Learning rate set to 0.088608\n",
            "0:\tlearn: 1.2620168\ttotal: 15.3ms\tremaining: 15.3s\n",
            "100:\tlearn: 0.4978358\ttotal: 902ms\tremaining: 8.03s\n",
            "200:\tlearn: 0.4706342\ttotal: 1.76s\tremaining: 7s\n",
            "300:\tlearn: 0.4521522\ttotal: 2.63s\tremaining: 6.12s\n",
            "400:\tlearn: 0.4377972\ttotal: 3.53s\tremaining: 5.27s\n",
            "500:\tlearn: 0.4250677\ttotal: 4.39s\tremaining: 4.38s\n",
            "600:\tlearn: 0.4144644\ttotal: 5.29s\tremaining: 3.51s\n",
            "700:\tlearn: 0.4044835\ttotal: 6.17s\tremaining: 2.63s\n",
            "800:\tlearn: 0.3952361\ttotal: 7.07s\tremaining: 1.75s\n",
            "900:\tlearn: 0.3864180\ttotal: 7.94s\tremaining: 873ms\n",
            "999:\tlearn: 0.3790295\ttotal: 8.95s\tremaining: 0us\n",
            "Learning rate set to 0.088608\n",
            "0:\tlearn: 1.2619890\ttotal: 27.4ms\tremaining: 27.4s\n",
            "100:\tlearn: 0.4965277\ttotal: 2.45s\tremaining: 21.8s\n",
            "200:\tlearn: 0.4703860\ttotal: 4.07s\tremaining: 16.2s\n",
            "300:\tlearn: 0.4517988\ttotal: 4.94s\tremaining: 11.5s\n",
            "400:\tlearn: 0.4376310\ttotal: 5.79s\tremaining: 8.65s\n",
            "500:\tlearn: 0.4244572\ttotal: 6.68s\tremaining: 6.66s\n",
            "600:\tlearn: 0.4129243\ttotal: 7.58s\tremaining: 5.03s\n",
            "700:\tlearn: 0.4019200\ttotal: 8.45s\tremaining: 3.6s\n",
            "800:\tlearn: 0.3920551\ttotal: 9.32s\tremaining: 2.32s\n",
            "900:\tlearn: 0.3831531\ttotal: 10.2s\tremaining: 1.12s\n",
            "999:\tlearn: 0.3751700\ttotal: 11.1s\tremaining: 0us\n",
            "Learning rate set to 0.088608\n",
            "0:\tlearn: 1.2618421\ttotal: 9.44ms\tremaining: 9.43s\n",
            "100:\tlearn: 0.4947443\ttotal: 906ms\tremaining: 8.07s\n",
            "200:\tlearn: 0.4677199\ttotal: 1.78s\tremaining: 7.08s\n",
            "300:\tlearn: 0.4493107\ttotal: 3.43s\tremaining: 7.96s\n",
            "400:\tlearn: 0.4342554\ttotal: 5.83s\tremaining: 8.71s\n",
            "500:\tlearn: 0.4217226\ttotal: 7.08s\tremaining: 7.06s\n",
            "600:\tlearn: 0.4105393\ttotal: 7.97s\tremaining: 5.29s\n",
            "700:\tlearn: 0.3998260\ttotal: 8.84s\tremaining: 3.77s\n",
            "800:\tlearn: 0.3913409\ttotal: 9.71s\tremaining: 2.41s\n",
            "900:\tlearn: 0.3829677\ttotal: 10.6s\tremaining: 1.16s\n",
            "999:\tlearn: 0.3751781\ttotal: 11.4s\tremaining: 0us\n",
            "f1 (5 folds): [0.5370311  0.69359972 0.70299793 0.68833011 0.70105868]\n"
          ]
        }
      ]
    },
    {
      "cell_type": "code",
      "source": [
        "scores.mean()"
      ],
      "metadata": {
        "colab": {
          "base_uri": "https://localhost:8080/"
        },
        "id": "swvOB6_bosKP",
        "outputId": "81e39990-dead-44a4-fc3f-198deb8c3151"
      },
      "execution_count": 87,
      "outputs": [
        {
          "output_type": "execute_result",
          "data": {
            "text/plain": [
              "0.6646035088568178"
            ]
          },
          "metadata": {},
          "execution_count": 87
        }
      ]
    },
    {
      "cell_type": "code",
      "source": [
        "scores.std()\n",
        "# Variance가 작다는 것은 모델 complexity에 비해 sample수가 많다"
      ],
      "metadata": {
        "colab": {
          "base_uri": "https://localhost:8080/"
        },
        "id": "7176JINtoxsH",
        "outputId": "facfc583-5ff6-4e8f-9fb7-c9acf99cb95e"
      },
      "execution_count": 88,
      "outputs": [
        {
          "output_type": "execute_result",
          "data": {
            "text/plain": [
              "0.06400244299894976"
            ]
          },
          "metadata": {},
          "execution_count": 88
        }
      ]
    },
    {
      "cell_type": "code",
      "source": [
        "import seaborn as sns\n",
        "import matplotlib.pyplot as plt\n",
        "\n",
        "data = {'fold1': ['fold1', 'fold2', 'fold3', 'fold4', 'fold5'], 'f1': [0.5370311  ,0.69359972 ,0.70299793 ,0.68833011, 0.70105868]}\n",
        "df_by_fold = pd.DataFrame(data=data)"
      ],
      "metadata": {
        "id": "5Lzz-ln5pPAe"
      },
      "execution_count": 116,
      "outputs": []
    },
    {
      "cell_type": "code",
      "source": [
        "df_by_fold.plot.bar(x='fold1',y='f1',rot=0)"
      ],
      "metadata": {
        "colab": {
          "base_uri": "https://localhost:8080/",
          "height": 467
        },
        "id": "a7XKdPodpQaJ",
        "outputId": "f24f4a2e-2182-4230-b5ee-ec78531582b4"
      },
      "execution_count": 117,
      "outputs": [
        {
          "output_type": "execute_result",
          "data": {
            "text/plain": [
              "<Axes: xlabel='fold1'>"
            ]
          },
          "metadata": {},
          "execution_count": 117
        },
        {
          "output_type": "display_data",
          "data": {
            "text/plain": [
              "<Figure size 640x480 with 1 Axes>"
            ],
            "image/png": "[encoded data removed]"
          },
          "metadata": {}
        }
      ]
    },
    {
      "cell_type": "code",
      "source": [
        "train, test = train_test_split(naver_shop, train_size=0.7, stratify=naver_shop[target], random_state=2)\n",
        "X_train, y_train = divide_data(train)\n",
        "X_test, y_test = divide_data(test)"
      ],
      "metadata": {
        "id": "QEr5uNjHpf3C"
      },
      "execution_count": 91,
      "outputs": []
    },
    {
      "cell_type": "code",
      "source": [
        "from catboost import CatBoostClassifier\n",
        "\n",
        "def fit_cb(X_train, y_train):\n",
        "    pipe = make_pipeline(\n",
        "    OrdinalEncoder(),\n",
        "    SimpleImputer(),  \n",
        "    CatBoostClassifier(loss_function = 'MultiClass',early_stopping_rounds=35,verbose=100)\n",
        "    )\n",
        "\n",
        "    pipe.fit(X_train, y_train)\n",
        "\n",
        "    return pipe"
      ],
      "metadata": {
        "id": "EX961GygphBe"
      },
      "execution_count": 118,
      "outputs": []
    },
    {
      "cell_type": "code",
      "source": [
        "processor = make_pipeline(\n",
        "    OrdinalEncoder(),\n",
        "    SimpleImputer(strategy='median')\n",
        "    )\n",
        "X_train_processed = processor.fit_transform(X_train)\n",
        "\n",
        "res_clf = CatBoostClassifier(loss_function = 'MultiClass',class_weights=[0.622,0.77,0.928,0.928],early_stopping_rounds=35,verbose=100)\n",
        "\n",
        "res_clf.fit(X_train_processed,y_train)"
      ],
      "metadata": {
        "colab": {
          "base_uri": "https://localhost:8080/"
        },
        "id": "TLdfQGjkpiST",
        "outputId": "27692242-f1b0-4b89-af27-34371a8e1aed"
      },
      "execution_count": 119,
      "outputs": [
        {
          "output_type": "stream",
          "name": "stdout",
          "text": [
            "Learning rate set to 0.089622\n",
            "0:\tlearn: 1.2605152\ttotal: 79.2ms\tremaining: 1m 19s\n",
            "100:\tlearn: 0.4990752\ttotal: 3.6s\tremaining: 32s\n",
            "200:\tlearn: 0.4740569\ttotal: 4.61s\tremaining: 18.3s\n",
            "300:\tlearn: 0.4567591\ttotal: 5.58s\tremaining: 13s\n",
            "400:\tlearn: 0.4429811\ttotal: 6.57s\tremaining: 9.81s\n",
            "500:\tlearn: 0.4315754\ttotal: 7.52s\tremaining: 7.49s\n",
            "600:\tlearn: 0.4218073\ttotal: 8.52s\tremaining: 5.66s\n",
            "700:\tlearn: 0.4122312\ttotal: 9.54s\tremaining: 4.07s\n",
            "800:\tlearn: 0.4031213\ttotal: 10.5s\tremaining: 2.61s\n",
            "900:\tlearn: 0.3958453\ttotal: 11.5s\tremaining: 1.26s\n",
            "999:\tlearn: 0.3886735\ttotal: 12.5s\tremaining: 0us\n"
          ]
        },
        {
          "output_type": "execute_result",
          "data": {
            "text/plain": [
              "<catboost.core.CatBoostClassifier at 0x7fa0fb1686d0>"
            ]
          },
          "metadata": {},
          "execution_count": 119
        }
      ]
    },
    {
      "cell_type": "code",
      "source": [
        "res_clf.get_feature_importance()"
      ],
      "metadata": {
        "colab": {
          "base_uri": "https://localhost:8080/"
        },
        "id": "GY47NrXJpqAy",
        "outputId": "cfdee3a6-0d0c-4cf1-bbb9-0106e19ebd89"
      },
      "execution_count": 120,
      "outputs": [
        {
          "output_type": "execute_result",
          "data": {
            "text/plain": [
              "array([ 4.68944666,  2.26153422,  0.40292482,  2.21354331,  5.9942892 ,\n",
              "        0.55990975,  4.70538642,  7.43096981,  0.15986916,  1.85452511,\n",
              "       67.17568883,  2.55191272])"
            ]
          },
          "metadata": {},
          "execution_count": 120
        }
      ]
    },
    {
      "cell_type": "code",
      "source": [
        "def plot_feature_importance(importance,names,model_type):\n",
        "    \n",
        "    #Create arrays from feature importance and feature names\n",
        "    feature_importance = np.array(importance)\n",
        "    feature_names = np.array(names)\n",
        "    \n",
        "    #Create a DataFrame using a Dictionary\n",
        "    data={'feature_names':feature_names,'feature_importance':feature_importance}\n",
        "    fi_df = pd.DataFrame(data)\n",
        "    \n",
        "    #Sort the DataFrame in order decreasing feature importance\n",
        "    fi_df.sort_values(by=['feature_importance'], ascending=False,inplace=True)\n",
        "    \n",
        "    #Define size of bar plot\n",
        "    plt.figure(figsize=(10,8))\n",
        "    #Plot Searborn bar chart\n",
        "    sns.barplot(x=fi_df['feature_importance'], y=fi_df['feature_names'])\n",
        "    #Add chart labels\n",
        "    plt.title(model_type + 'FEATURE IMPORTANCE')\n",
        "    plt.xlabel('FEATURE IMPORTANCE')\n",
        "    plt.ylabel('FEATURE NAMES')"
      ],
      "metadata": {
        "id": "iC1d4Wy9pyJP"
      },
      "execution_count": 121,
      "outputs": []
    },
    {
      "cell_type": "code",
      "source": [
        "plot_feature_importance(res_clf.get_feature_importance(),X_train.columns,'CATBOOST')"
      ],
      "metadata": {
        "colab": {
          "base_uri": "https://localhost:8080/",
          "height": 718
        },
        "id": "b3dolucapz4Q",
        "outputId": "6cbeb965-6435-4238-902c-cb6bcce8921c"
      },
      "execution_count": 122,
      "outputs": [
        {
          "output_type": "display_data",
          "data": {
            "text/plain": [
              "<Figure size 1000x800 with 1 Axes>"
            ],
            "image/png": "[encoded data removed]"
          },
          "metadata": {}
        }
      ]
    },
    {
      "cell_type": "code",
      "source": [
        "import seaborn as sns\n",
        "import pandas as pd\n",
        "import matplotlib.pyplot as plt\n",
        "\n",
        "df_by_feature = pd.DataFrame(columns=['\bLow price',\n",
        "'Price_range_score',\n",
        "'Brand',\n",
        "'category3',\n",
        "'Title',\n",
        "'category2',\n",
        "'maker',\n",
        "'Total Point',\n",
        "'Mall Name',\n",
        "'Maker Point',\n",
        "'category1',\n",
        "'Product Type'\n",
        "])"
      ],
      "metadata": {
        "id": "Dvp2tAz0p32x"
      },
      "execution_count": 123,
      "outputs": []
    },
    {
      "cell_type": "code",
      "source": [
        "row = [ 9.42506961,  3.8843528 ,  3.6941246 , 18.29352653, 13.32113064,\n",
        "       12.2050236 , 12.24629638,  3.98242717,  3.26797755,  3.67377797,\n",
        "        3.28963557, 12.71665759]\n",
        "row.sort(reverse=True)"
      ],
      "metadata": {
        "id": "DIoQNmn0qW_O"
      },
      "execution_count": 124,
      "outputs": []
    },
    {
      "cell_type": "code",
      "source": [
        "df_by_feature = df_by_feature.append(pd.Series(row, index=df_by_feature.columns), ignore_index=True)"
      ],
      "metadata": {
        "id": "5RCMhQZ6qazA"
      },
      "execution_count": 125,
      "outputs": []
    },
    {
      "cell_type": "code",
      "source": [
        "df_by_feature = df_by_feature.T"
      ],
      "metadata": {
        "id": "ttwNLiwcqfuu"
      },
      "execution_count": 126,
      "outputs": []
    },
    {
      "cell_type": "code",
      "source": [
        "df_by_feature = df_by_feature.reset_index()"
      ],
      "metadata": {
        "id": "-brHyaESqhB3"
      },
      "execution_count": 127,
      "outputs": []
    },
    {
      "cell_type": "code",
      "source": [
        "df_by_feature"
      ],
      "metadata": {
        "colab": {
          "base_uri": "https://localhost:8080/",
          "height": 426
        },
        "id": "VuK8z0Dsqh_D",
        "outputId": "e1652a21-ee43-4e5d-bdac-737dfed350c1"
      },
      "execution_count": 128,
      "outputs": [
        {
          "output_type": "execute_result",
          "data": {
            "text/plain": [
              "                index          0\n",
              "0          \bLow price  18.293527\n",
              "1   Price_range_score  13.321131\n",
              "2               Brand  12.716658\n",
              "3           category3  12.246296\n",
              "4               Title  12.205024\n",
              "5           category2   9.425070\n",
              "6               maker   3.982427\n",
              "7         Total Point   3.884353\n",
              "8           Mall Name   3.694125\n",
              "9         Maker Point   3.673778\n",
              "10          category1   3.289636\n",
              "11       Product Type   3.267978"
            ],
            "text/html": [
              "\n",
              "  <div id=\"df-94d38fd4-3ef3-433f-9a78-017273949f9c\">\n",
              "    <div class=\"colab-df-container\">\n",
              "      <div>\n",
              "<style scoped>\n",
              "    .dataframe tbody tr th:only-of-type {\n",
              "        vertical-align: middle;\n",
              "    }\n",
              "\n",
              "    .dataframe tbody tr th {\n",
              "        vertical-align: top;\n",
              "    }\n",
              "\n",
              "    .dataframe thead th {\n",
              "        text-align: right;\n",
              "    }\n",
              "</style>\n",
              "<table border=\"1\" class=\"dataframe\">\n",
              "  <thead>\n",
              "    <tr style=\"text-align: right;\">\n",
              "      <th></th>\n",
              "      <th>index</th>\n",
              "      <th>0</th>\n",
              "    </tr>\n",
              "  </thead>\n",
              "  <tbody>\n",
              "    <tr>\n",
              "      <th>0</th>\n",
              "      <td>\bLow price</td>\n",
              "      <td>18.293527</td>\n",
              "    </tr>\n",
              "    <tr>\n",
              "      <th>1</th>\n",
              "      <td>Price_range_score</td>\n",
              "      <td>13.321131</td>\n",
              "    </tr>\n",
              "    <tr>\n",
              "      <th>2</th>\n",
              "      <td>Brand</td>\n",
              "      <td>12.716658</td>\n",
              "    </tr>\n",
              "    <tr>\n",
              "      <th>3</th>\n",
              "      <td>category3</td>\n",
              "      <td>12.246296</td>\n",
              "    </tr>\n",
              "    <tr>\n",
              "      <th>4</th>\n",
              "      <td>Title</td>\n",
              "      <td>12.205024</td>\n",
              "    </tr>\n",
              "    <tr>\n",
              "      <th>5</th>\n",
              "      <td>category2</td>\n",
              "      <td>9.425070</td>\n",
              "    </tr>\n",
              "    <tr>\n",
              "      <th>6</th>\n",
              "      <td>maker</td>\n",
              "      <td>3.982427</td>\n",
              "    </tr>\n",
              "    <tr>\n",
              "      <th>7</th>\n",
              "      <td>Total Point</td>\n",
              "      <td>3.884353</td>\n",
              "    </tr>\n",
              "    <tr>\n",
              "      <th>8</th>\n",
              "      <td>Mall Name</td>\n",
              "      <td>3.694125</td>\n",
              "    </tr>\n",
              "    <tr>\n",
              "      <th>9</th>\n",
              "      <td>Maker Point</td>\n",
              "      <td>3.673778</td>\n",
              "    </tr>\n",
              "    <tr>\n",
              "      <th>10</th>\n",
              "      <td>category1</td>\n",
              "      <td>3.289636</td>\n",
              "    </tr>\n",
              "    <tr>\n",
              "      <th>11</th>\n",
              "      <td>Product Type</td>\n",
              "      <td>3.267978</td>\n",
              "    </tr>\n",
              "  </tbody>\n",
              "</table>\n",
              "</div>\n",
              "      <button class=\"colab-df-convert\" onclick=\"convertToInteractive('df-94d38fd4-3ef3-433f-9a78-017273949f9c')\"\n",
              "              title=\"Convert this dataframe to an interactive table.\"\n",
              "              style=\"display:none;\">\n",
              "        \n",
              "  <svg xmlns=\"http://www.w3.org/2000/svg\" height=\"24px\"viewBox=\"0 0 24 24\"\n",
              "       width=\"24px\">\n",
              "    <path d=\"M0 0h24v24H0V0z\" fill=\"none\"/>\n",
              "    <path d=\"M18.56 5.44l.94 2.06.94-2.06 2.06-.94-2.06-.94-.94-2.06-.94 2.06-2.06.94zm-11 1L8.5 8.5l.94-2.06 2.06-.94-2.06-.94L8.5 2.5l-.94 2.06-2.06.94zm10 10l.94 2.06.94-2.06 2.06-.94-2.06-.94-.94-2.06-.94 2.06-2.06.94z\"/><path d=\"M17.41 7.96l-1.37-1.37c-.4-.4-.92-.59-1.43-.59-.52 0-1.04.2-1.43.59L10.3 9.45l-7.72 7.72c-.78.78-.78 2.05 0 2.83L4 21.41c.39.39.9.59 1.41.59.51 0 1.02-.2 1.41-.59l7.78-7.78 2.81-2.81c.8-.78.8-2.07 0-2.86zM5.41 20L4 18.59l7.72-7.72 1.47 1.35L5.41 20z\"/>\n",
              "  </svg>\n",
              "      </button>\n",
              "      \n",
              "  <style>\n",
              "    .colab-df-container {\n",
              "      display:flex;\n",
              "      flex-wrap:wrap;\n",
              "      gap: 12px;\n",
              "    }\n",
              "\n",
              "    .colab-df-convert {\n",
              "      background-color: #E8F0FE;\n",
              "      border: none;\n",
              "      border-radius: 50%;\n",
              "      cursor: pointer;\n",
              "      display: none;\n",
              "      fill: #1967D2;\n",
              "      height: 32px;\n",
              "      padding: 0 0 0 0;\n",
              "      width: 32px;\n",
              "    }\n",
              "\n",
              "    .colab-df-convert:hover {\n",
              "      background-color: #E2EBFA;\n",
              "      box-shadow: 0px 1px 2px rgba(60, 64, 67, 0.3), 0px 1px 3px 1px rgba(60, 64, 67, 0.15);\n",
              "      fill: #174EA6;\n",
              "    }\n",
              "\n",
              "    [theme=dark] .colab-df-convert {\n",
              "      background-color: #3B4455;\n",
              "      fill: #D2E3FC;\n",
              "    }\n",
              "\n",
              "    [theme=dark] .colab-df-convert:hover {\n",
              "      background-color: #434B5C;\n",
              "      box-shadow: 0px 1px 3px 1px rgba(0, 0, 0, 0.15);\n",
              "      filter: drop-shadow(0px 1px 2px rgba(0, 0, 0, 0.3));\n",
              "      fill: #FFFFFF;\n",
              "    }\n",
              "  </style>\n",
              "\n",
              "      <script>\n",
              "        const buttonEl =\n",
              "          document.querySelector('#df-94d38fd4-3ef3-433f-9a78-017273949f9c button.colab-df-convert');\n",
              "        buttonEl.style.display =\n",
              "          google.colab.kernel.accessAllowed ? 'block' : 'none';\n",
              "\n",
              "        async function convertToInteractive(key) {\n",
              "          const element = document.querySelector('#df-94d38fd4-3ef3-433f-9a78-017273949f9c');\n",
              "          const dataTable =\n",
              "            await google.colab.kernel.invokeFunction('convertToInteractive',\n",
              "                                                     [key], {});\n",
              "          if (!dataTable) return;\n",
              "\n",
              "          const docLinkHtml = 'Like what you see? Visit the ' +\n",
              "            '<a target=\"_blank\" href=https://colab.research.google.com/notebooks/data_table.ipynb>data table notebook</a>'\n",
              "            + ' to learn more about interactive tables.';\n",
              "          element.innerHTML = '';\n",
              "          dataTable['output_type'] = 'display_data';\n",
              "          await google.colab.output.renderOutput(dataTable, element);\n",
              "          const docLink = document.createElement('div');\n",
              "          docLink.innerHTML = docLinkHtml;\n",
              "          element.appendChild(docLink);\n",
              "        }\n",
              "      </script>\n",
              "    </div>\n",
              "  </div>\n",
              "  "
            ]
          },
          "metadata": {},
          "execution_count": 128
        }
      ]
    },
    {
      "cell_type": "code",
      "source": [
        "plt.figure(figsize=(10, 10))\n",
        "sns.barplot(x=0,y='index',data=df_by_feature,palette=sns.color_palette('coolwarm',12))"
      ],
      "metadata": {
        "colab": {
          "base_uri": "https://localhost:8080/",
          "height": 868
        },
        "id": "vFQGZUFKqkTj",
        "outputId": "dc63af0f-6fc3-4155-a44f-beef9b31b644"
      },
      "execution_count": 103,
      "outputs": [
        {
          "output_type": "execute_result",
          "data": {
            "text/plain": [
              "<Axes: xlabel='0', ylabel='index'>"
            ]
          },
          "metadata": {},
          "execution_count": 103
        },
        {
          "output_type": "display_data",
          "data": {
            "text/plain": [
              "<Figure size 1000x1000 with 1 Axes>"
            ],
            "image/png": "[encoded data removed]"
          },
          "metadata": {}
        }
      ]
    }
  ]
}